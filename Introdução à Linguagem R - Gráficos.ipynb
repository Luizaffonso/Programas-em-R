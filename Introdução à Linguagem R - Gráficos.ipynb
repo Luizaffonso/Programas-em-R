{
 "cells": [
  {
   "cell_type": "markdown",
   "metadata": {},
   "source": [
    "# Introdução à Linguagem R - Visualização de Dados\n",
    "\n",
    "\n",
    "## Autor: Luiz Affonso Guedes\n",
    "última atualização: outubro de 2017\n",
    "\n",
    "\n",
    "## Baseado no Livro: R for Data Science, de Garrett Grolemund e Hadley Wickham\n",
    "- Disponível em: http://r4ds.had.co.nz/\n",
    "\n",
    "## Objetivos\n",
    "\n",
    "O objetivo geral deste documeto é apresentar a potencialidade da linguagem R no contexto de ciência de dados. \n",
    "\n",
    "Os objetivos específicos deste documento são:\n",
    "- Apresentar as funcionalidade de gráficos na linguagem R.\n",
    "\n",
    "\n",
    "## Metodologia Utilizada\n",
    "Usaremos uma abordagem interativa e incremental, mesclando braves explicações conceituais com programas em linguagem R.\n",
    "\n",
    "Só trabalharemos com dos retangulares (tipo planilha).\n",
    "\n",
    "# Sumário\n",
    "- \n",
    "    "
   ]
  },
  {
   "cell_type": "markdown",
   "metadata": {},
   "source": [
    "## 0. Instalação de pacotes\n",
    "Para execução dos exemplos, será necessário a instalação e a importação do pacote \"tidyverse\".\n",
    "- Este pacote contém as principais biblitecas do R.\n"
   ]
  },
  {
   "cell_type": "code",
   "execution_count": null,
   "metadata": {
    "collapsed": true
   },
   "outputs": [],
   "source": [
    "install.packages(\"tidyverse\")"
   ]
  },
  {
   "cell_type": "code",
   "execution_count": null,
   "metadata": {
    "collapsed": true
   },
   "outputs": [],
   "source": [
    "library(tidyverse)"
   ]
  },
  {
   "cell_type": "markdown",
   "metadata": {},
   "source": [
    "## 1. Introdução\n",
    "\n",
    "- Iremos trabalhar com data frames, que são dados retangulares, dispostos em colunas (variáveis) e linhas (observações).\n",
    "\n",
    "- uso do data frame \"mpg\", que contém observações colatadas pela \"US Environment Protection Agency\" sobre 38 modelos de carros."
   ]
  },
  {
   "cell_type": "code",
   "execution_count": null,
   "metadata": {
    "collapsed": true
   },
   "outputs": [],
   "source": [
    "mpg"
   ]
  },
  {
   "cell_type": "code",
   "execution_count": null,
   "metadata": {
    "collapsed": true
   },
   "outputs": [],
   "source": [
    "?mpg"
   ]
  },
  {
   "cell_type": "markdown",
   "metadata": {},
   "source": [
    "### 2. Criação de Gráfico\n",
    "- uso da biblioteca ggplot.\n",
    "- para plotar os dados de \"mpg\", com \"displ\" no eixo x e \"hwy\" no eixo y."
   ]
  },
  {
   "cell_type": "code",
   "execution_count": null,
   "metadata": {
    "collapsed": true
   },
   "outputs": [],
   "source": [
    "ggplot(data = mpg) + \n",
    "  geom_point(mapping = aes(x = displ, y = hwy))"
   ]
  },
  {
   "cell_type": "markdown",
   "metadata": {},
   "source": [
    "- Com ggplot2, a função ggplot( ) inicia um plot.\n",
    "    - A função ggplot( ) cria um sistema de coordenadas, que se pode adicionar camadas.\n",
    "    -O primeiro argumento de ggplot( ) é o dataset que será utilizado no gráfico.\n",
    "    - O ggplot(data = mpg) cria um gráfico vazio.\n",
    "\n",
    "\n",
    "- Completa-se o gráfico adicionando-se uma ou mais camadas sobre o gráfico criado por ggplot( ).\n",
    "    - A função geom_point( ) adiciona uma camada de pontos sobre o plot (no caso um scatterplot).\n",
    "    - Há várias funções do tipo geom_*, sendo que cada uma utiliza um tipo diferente de símbols sobre o gráfico.\n",
    "    \n",
    "- O padrão para se criar um gráfico em ggpot é o seguinte:\n",
    "\n",
    "\n",
    "ggplot(data = dataFrameDesejado) + \n",
    "\n",
    "  geom_nomeDaFuncao (mapping = aes(mapeamentos)) \n",
    "  "
   ]
  },
  {
   "cell_type": "code",
   "execution_count": null,
   "metadata": {
    "collapsed": true
   },
   "outputs": [],
   "source": [
    "# Verifique o que ocorre se se executar apenas ggplot(.) \n",
    "ggplot(data = mpg)"
   ]
  },
  {
   "cell_type": "markdown",
   "metadata": {},
   "source": [
    "#### Exercício: \n",
    "- Faça um gráfico (tipo scatterplot) de \"hwy\" vs \"cyl\"\n"
   ]
  },
  {
   "cell_type": "code",
   "execution_count": null,
   "metadata": {
    "collapsed": true
   },
   "outputs": [],
   "source": [
    "# Resolução do Exercício\n"
   ]
  },
  {
   "cell_type": "markdown",
   "metadata": {},
   "source": [
    "## 3. Trabalhando com Asthetics em Gráficos\n",
    "\n",
    "> “The greatest value of a picture is when it forces us to notice what we never expected to see.” — John Tukey\n",
    "\n",
    "Um \"Aesthetic\" é uma propriedade visual dos objetos em sua trama. Aesthetics inclui coisas como o tamanho, a forma ou a cor dos seus pontos. \n",
    "- Pode-se exibir um ponto um gráfico de diferentes maneiras via alteração dos valores de suas propriedades estéticas.\n",
    "    - como forma e cor de um ponto para tornar o ponto pequeno, triangular ou azul, por exemplo.\n"
   ]
  },
  {
   "cell_type": "code",
   "execution_count": null,
   "metadata": {
    "collapsed": true
   },
   "outputs": [],
   "source": [
    "# Exemplo de uso de Asthetics\n",
    "# Mapeamento das cores dos pontos da variável de classe para revelar a classe de cada carro.\n",
    "ggplot(data = mpg) + \n",
    "  geom_point(mapping = aes(x = displ, y = hwy, color = class))"
   ]
  },
  {
   "cell_type": "code",
   "execution_count": null,
   "metadata": {
    "collapsed": true
   },
   "outputs": [],
   "source": [
    "# Exemplo de uso de Asthetics\n",
    "# Mapeamento de tamanho dos pontos da variável de classe para revelar a classe de cada carro.\n",
    "ggplot(data = mpg) + \n",
    "  geom_point(mapping = aes(x = displ, y = hwy, size = class))"
   ]
  },
  {
   "cell_type": "markdown",
   "metadata": {},
   "source": [
    "- Pode-se controlar o nível de transparência dos pontos via o parâmetro \"alpha\".\n",
    "- Pode-se controlar a forma (shape) do ponto via o prâmetro \"shape\"."
   ]
  },
  {
   "cell_type": "code",
   "execution_count": null,
   "metadata": {
    "collapsed": true
   },
   "outputs": [],
   "source": [
    "# # Exemplo de uso de Asthetics\n",
    "\n",
    "# Nível de transparência dos pontos.\n",
    "\n",
    "ggplot(data = mpg) + \n",
    "  geom_point(mapping = aes(x = displ, y = hwy, alpha = class))\n"
   ]
  },
  {
   "cell_type": "code",
   "execution_count": null,
   "metadata": {
    "collapsed": true
   },
   "outputs": [],
   "source": [
    "# Definindo o formato (shape) dos pontos.\n",
    "\n",
    "ggplot(data = mpg) + \n",
    "  geom_point(mapping = aes(x = displ, y = hwy, shape = class))"
   ]
  },
  {
   "cell_type": "markdown",
   "metadata": {},
   "source": [
    "- Pode-se definir parâmetros (como cor, por exemplo) especificamente para os ponto.\n",
    "- Para isto, precisa-se especificar o parâmetro em questão fora da variável mapping."
   ]
  },
  {
   "cell_type": "code",
   "execution_count": null,
   "metadata": {
    "collapsed": true
   },
   "outputs": [],
   "source": [
    "# Definindo a cor Azul para os pontos do gráfico\n",
    "ggplot(data = mpg) + \n",
    "  geom_point(mapping = aes(x = displ, y = hwy), color = \"blue\")"
   ]
  },
  {
   "cell_type": "code",
   "execution_count": null,
   "metadata": {
    "collapsed": true
   },
   "outputs": [],
   "source": [
    "# Qual é a diferença para o gráfico anterior?\n",
    "ggplot(data = mpg) + \n",
    "  geom_point(mapping = aes(x = displ, y = hwy, color = \"blue\"))"
   ]
  },
  {
   "cell_type": "markdown",
   "metadata": {},
   "source": [
    "## 4 Facets\n",
    "- São subplots, onde cada um exibe um subconjuto dos dados.\n",
    "- Bastante útil para dados categóricos.\n",
    "- Usar a função facet_wrap( ) para dividir o gráfico em subplots com uma mesma variável.\n",
    "    - O primeiro argumento é uma fórmula.\n",
    "    - A variável passada deve ser discreta."
   ]
  },
  {
   "cell_type": "code",
   "execution_count": null,
   "metadata": {
    "collapsed": true
   },
   "outputs": [],
   "source": [
    "# Exemplo de uso da função facet_wrap(), para se criar subplots\n",
    "\n",
    "ggplot(data = mpg) + \n",
    "  geom_point(mapping = aes(x = displ, y = hwy)) + \n",
    "  facet_wrap(~ class, nrow = 2)"
   ]
  },
  {
   "cell_type": "code",
   "execution_count": null,
   "metadata": {
    "collapsed": true
   },
   "outputs": [],
   "source": [
    "# Exemplo de uso da função facet_wrap(), para se criar subplots\n",
    "\n",
    "ggplot(data = mpg) + \n",
    "  geom_point(mapping = aes(x = displ, y = hwy)) + \n",
    "  facet_wrap(~ class, nrow = 3)"
   ]
  },
  {
   "cell_type": "markdown",
   "metadata": {},
   "source": [
    "- Para dividir o plot sobre a combinação de duas variáveis, usa-se a função facet_grid().\n",
    "    - O primeiro argumento é uma fórmula, que contém duas variáveis separadas por ~."
   ]
  },
  {
   "cell_type": "code",
   "execution_count": null,
   "metadata": {
    "collapsed": true
   },
   "outputs": [],
   "source": [
    "# Exemplo de uso da função facet_grid(y~x)\n",
    "\n",
    "ggplot(data = mpg) + \n",
    "  geom_point(mapping = aes(x = displ, y = hwy)) + \n",
    "  facet_grid(drv ~ cyl)"
   ]
  },
  {
   "cell_type": "markdown",
   "metadata": {},
   "source": [
    "- Se preferir não dividir o gráfico em linhas e colunas, usa-se . ao invés do nome da variável. \n",
    "    - Por exemplo: + facet_grid(. ~ cyl)."
   ]
  },
  {
   "cell_type": "code",
   "execution_count": null,
   "metadata": {
    "collapsed": true
   },
   "outputs": [],
   "source": [
    "# Exemplo de uso da função facet_grid(y~x)\n",
    "\n",
    "ggplot(data = mpg) + \n",
    "  geom_point(mapping = aes(x = displ, y = hwy)) + \n",
    "  facet_grid(. ~ cyl)"
   ]
  },
  {
   "cell_type": "code",
   "execution_count": null,
   "metadata": {
    "collapsed": true
   },
   "outputs": [],
   "source": [
    "ggplot(data = mpg) + \n",
    "  geom_point(mapping = aes(x = displ, y = hwy)) +\n",
    "  facet_grid(drv ~ .)\n",
    "\n",
    "ggplot(data = mpg) + \n",
    "  geom_point(mapping = aes(x = displ, y = hwy)) +\n",
    "  facet_grid(. ~ cyl)"
   ]
  },
  {
   "cell_type": "markdown",
   "metadata": {},
   "source": [
    "## 5. Objetos Geométricos\n",
    "- Uma função geom_* é um objeto gráfico que o ggplot usa para representar dados.\n",
    "- Há várias formas de se representar dados:\n",
    "    - bar charts usam geom_bar( ).\n",
    "    - boxplots usam geom_boxplot( ).\n",
    "    - scatterplots usam geom_point( ).\n",
    "    - line plots usam geom_line( ).\n",
    "    - ..."
   ]
  },
  {
   "cell_type": "code",
   "execution_count": null,
   "metadata": {
    "collapsed": true
   },
   "outputs": [],
   "source": [
    "# Exemplo de gráfico de pontos\n",
    "ggplot(data = mpg) + \n",
    "  geom_point(mapping = aes(x = displ, y = hwy))"
   ]
  },
  {
   "cell_type": "code",
   "execution_count": null,
   "metadata": {
    "collapsed": true
   },
   "outputs": [],
   "source": [
    "# Exemplo de gráfico de linha\n",
    "ggplot(data = mpg) + \n",
    "  geom_line(mapping = aes(x = displ, y = hwy))"
   ]
  },
  {
   "cell_type": "code",
   "execution_count": null,
   "metadata": {
    "collapsed": true
   },
   "outputs": [],
   "source": [
    "# Exemplo de gráfico de linha com suavização\n",
    "ggplot(data = mpg) + \n",
    "  geom_smooth(mapping = aes(x = displ, y = hwy))"
   ]
  },
  {
   "cell_type": "code",
   "execution_count": null,
   "metadata": {
    "collapsed": true
   },
   "outputs": [],
   "source": [
    "# Exemplo de gráfico de linha com suavização e gráfico de pontos sobrepostos\n",
    "ggplot(data = mpg) + \n",
    "  geom_smooth(mapping = aes(x = displ, y = hwy))+ \n",
    "  geom_point(mapping = aes(x = displ, y = hwy))"
   ]
  },
  {
   "cell_type": "code",
   "execution_count": null,
   "metadata": {
    "collapsed": true
   },
   "outputs": [],
   "source": [
    "# Gráfico de linha, com tipo de linha para valor da variável \"drv\"\n",
    "ggplot(data = mpg) + \n",
    "  geom_line(mapping = aes(x = displ, y = hwy, linetype = drv))"
   ]
  },
  {
   "cell_type": "code",
   "execution_count": null,
   "metadata": {
    "collapsed": true
   },
   "outputs": [],
   "source": [
    "# Gráfico de linha com suavização, com tipo de linha para valor da variável \"drv\"\n",
    "ggplot(data = mpg) + \n",
    "  geom_smooth(mapping = aes(x = displ, y = hwy, linetype = drv))"
   ]
  },
  {
   "cell_type": "markdown",
   "metadata": {},
   "source": [
    "#### Exercício:\n",
    "- Sobreponha os pontos no gráfico anterior, porém cada valor da variável \"drv\" deverá ter uma cor própria."
   ]
  },
  {
   "cell_type": "code",
   "execution_count": null,
   "metadata": {
    "collapsed": true
   },
   "outputs": [],
   "source": [
    "# Resolução do Problema"
   ]
  },
  {
   "cell_type": "markdown",
   "metadata": {},
   "source": [
    "### Exemplos de Gráficos de Barras"
   ]
  },
  {
   "cell_type": "code",
   "execution_count": null,
   "metadata": {
    "collapsed": true
   },
   "outputs": [],
   "source": [
    "# A variável \"diamonds\" vem no pocote ggplot\n",
    "\n",
    "ggplot(data = diamonds) + \n",
    "  geom_bar(mapping = aes(x = cut))"
   ]
  },
  {
   "cell_type": "code",
   "execution_count": null,
   "metadata": {
    "collapsed": true
   },
   "outputs": [],
   "source": [
    "ggplot(data = diamonds) + \n",
    "  geom_bar(mapping = aes(x = cut, fill = cut))"
   ]
  },
  {
   "cell_type": "code",
   "execution_count": null,
   "metadata": {
    "collapsed": true
   },
   "outputs": [],
   "source": [
    "ggplot(data = diamonds) + \n",
    "  geom_bar(mapping = aes(x = cut, fill = clarity))"
   ]
  },
  {
   "cell_type": "code",
   "execution_count": null,
   "metadata": {
    "collapsed": true
   },
   "outputs": [],
   "source": [
    "ggplot(data = diamonds) + \n",
    "  geom_bar(mapping = aes(x = cut, fill = clarity), position = \"dodge\")"
   ]
  },
  {
   "cell_type": "markdown",
   "metadata": {},
   "source": [
    "### Exemplos de Gráficos de Caixa (boxplots)"
   ]
  },
  {
   "cell_type": "code",
   "execution_count": null,
   "metadata": {
    "collapsed": true
   },
   "outputs": [],
   "source": [
    "ggplot(data = mpg, mapping = aes(x = class, y = hwy)) + \n",
    "  geom_boxplot()"
   ]
  },
  {
   "cell_type": "code",
   "execution_count": null,
   "metadata": {
    "collapsed": true
   },
   "outputs": [],
   "source": [
    "ggplot(data = mpg, mapping = aes(x = class, y = hwy)) + \n",
    "  geom_boxplot() +\n",
    "  coord_flip()"
   ]
  },
  {
   "cell_type": "markdown",
   "metadata": {},
   "source": [
    "## 6. Mapas\n",
    "- função map_data(\"país)\n",
    "- função geom_polygon( )"
   ]
  },
  {
   "cell_type": "code",
   "execution_count": null,
   "metadata": {
    "collapsed": true
   },
   "outputs": [],
   "source": [
    "# Exemplo de uso da função map_data - mapa da Nova-Zelândia\n",
    "nz <- map_data(\"nz\")\n"
   ]
  },
  {
   "cell_type": "code",
   "execution_count": null,
   "metadata": {
    "collapsed": true
   },
   "outputs": [],
   "source": [
    "# Exemplo - Dezenho do mapa\n",
    "ggplot(nz, aes(long, lat, group = group)) +\n",
    "  geom_polygon(fill = \"white\", colour = \"black\")\n"
   ]
  },
  {
   "cell_type": "code",
   "execution_count": null,
   "metadata": {
    "collapsed": true
   },
   "outputs": [],
   "source": [
    "# Exemplo - Dezenho do mapa da Nova-Zelândia\n",
    "ggplot(nz, aes(long, lat, group = group)) +\n",
    "  geom_polygon(fill = \"white\", colour = \"black\") +\n",
    "  coord_quickmap()"
   ]
  },
  {
   "cell_type": "code",
   "execution_count": null,
   "metadata": {
    "collapsed": true
   },
   "outputs": [],
   "source": [
    "# Exemplo de uso da função map_data - mapa dos Estados Unidos\n",
    "state <- map_data(\"state\")\n"
   ]
  },
  {
   "cell_type": "code",
   "execution_count": null,
   "metadata": {
    "collapsed": true
   },
   "outputs": [],
   "source": [
    "# Exemplo - Dezenho do mapa dos Estados Unidos\n",
    "ggplot(state, aes(long, lat, group = group)) +\n",
    "  geom_polygon(fill = \"blue\", colour = \"black\")"
   ]
  },
  {
   "cell_type": "code",
   "execution_count": null,
   "metadata": {
    "collapsed": true
   },
   "outputs": [],
   "source": []
  }
 ],
 "metadata": {
  "kernelspec": {
   "display_name": "R",
   "language": "R",
   "name": "ir"
  },
  "language_info": {
   "codemirror_mode": "r",
   "file_extension": ".r",
   "mimetype": "text/x-r-source",
   "name": "R",
   "pygments_lexer": "r",
   "version": "3.4.2"
  }
 },
 "nbformat": 4,
 "nbformat_minor": 2
}
