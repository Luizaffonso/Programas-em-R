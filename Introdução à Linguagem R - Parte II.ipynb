{
 "cells": [
  {
   "cell_type": "markdown",
   "metadata": {},
   "source": [
    "# Introdução à Linguagem R - Parte II\n",
    "\n",
    "## Autor: Luiz Affonso Guedes \n",
    "Última atualização: outubro de 2017\n",
    "\n",
    "## Obtetivo\n",
    "- Apresentar uma introdução à estatítica e gráficos na linguagem R\n",
    "\n",
    "## Conteúdo\n",
    "- Revisão de R: manipulação de data.frames e arquivos\n",
    "- Importação de pacotes R\n",
    "- Como manipular um arquivo Excell em R\n",
    "- Funções de estatística básica em R\n",
    "- Gráficos estatísitcos básicos em R\n",
    "- Exercícios\n"
   ]
  },
  {
   "cell_type": "markdown",
   "metadata": {},
   "source": [
    "## 0. Instalação de Pacotes em R\n",
    "– install.packages(“package_name”)\n",
    "ou\n",
    "– install.packages(vector_of_packages_names)\n",
    "– Exemplos: \n",
    "    - install.packages(“plyr\")\n",
    "    - install.packages(c(“plyr”,“moments”))\n",
    "    \n",
    "- Para carregar uma biblioteca:\n",
    "– library(“nome”)  OU require(“nome”)"
   ]
  },
  {
   "cell_type": "code",
   "execution_count": null,
   "metadata": {
    "collapsed": true
   },
   "outputs": [],
   "source": [
    "# install.packages(“packagename”)"
   ]
  },
  {
   "cell_type": "markdown",
   "metadata": {},
   "source": [
    "## 1. Funções básicas de estatística em R\n",
    "\n",
    "Algumas funções úteis que operam sobre vetores/matrizes/dataFrames numéricos:\n",
    "- length(vetorX) ; obtém a dimensão do vetor\n",
    "- mean(vetorX) ; obtém o valor médio dos valores dos elementos de um vetor\n",
    "- max(vetorX); obtém o valor máximo entre os elementos de um vetor\n",
    "- min(vetorX); obtém o valor mínimo entre os elementos de um vetor\n",
    "- sd(vetorX); obtém o desvio padrão dos valores dos elementos de um vetor\n",
    "- var(vetorX); obtém a variância dos valores dos elementos de um vetor\n",
    "- cor(x,y); coeficiente de correlação\n",
    "- cov(x,y); covariância\n",
    "- median(vetorX); obtém a mediana dos valores dos elementos de um vetor\n",
    "- quantile(vetorX,percentual); Produz as quantidades de amostra correspondentes às probabilidades dadas\n",
    "- summary(vetorX); imprime na tela um sumário sobre o vetorX"
   ]
  },
  {
   "cell_type": "code",
   "execution_count": 19,
   "metadata": {},
   "outputs": [
    {
     "name": "stdout",
     "output_type": "stream",
     "text": [
      "[1] \"---- variavel x ------\"\n"
     ]
    },
    {
     "data": {
      "text/html": [
       "3"
      ],
      "text/latex": [
       "3"
      ],
      "text/markdown": [
       "3"
      ],
      "text/plain": [
       "[1] 3"
      ]
     },
     "metadata": {},
     "output_type": "display_data"
    },
    {
     "data": {
      "text/html": [
       "1.58113883008419"
      ],
      "text/latex": [
       "1.58113883008419"
      ],
      "text/markdown": [
       "1.58113883008419"
      ],
      "text/plain": [
       "[1] 1.581139"
      ]
     },
     "metadata": {},
     "output_type": "display_data"
    },
    {
     "data": {
      "text/html": [
       "2.5"
      ],
      "text/latex": [
       "2.5"
      ],
      "text/markdown": [
       "2.5"
      ],
      "text/plain": [
       "[1] 2.5"
      ]
     },
     "metadata": {},
     "output_type": "display_data"
    },
    {
     "name": "stdout",
     "output_type": "stream",
     "text": [
      "[1] \"---- variavel y ------\"\n"
     ]
    },
    {
     "data": {
      "text/html": [
       "6"
      ],
      "text/latex": [
       "6"
      ],
      "text/markdown": [
       "6"
      ],
      "text/plain": [
       "[1] 6"
      ]
     },
     "metadata": {},
     "output_type": "display_data"
    },
    {
     "data": {
      "text/html": [
       "3.16227766016838"
      ],
      "text/latex": [
       "3.16227766016838"
      ],
      "text/markdown": [
       "3.16227766016838"
      ],
      "text/plain": [
       "[1] 3.162278"
      ]
     },
     "metadata": {},
     "output_type": "display_data"
    },
    {
     "data": {
      "text/html": [
       "10"
      ],
      "text/latex": [
       "10"
      ],
      "text/markdown": [
       "10"
      ],
      "text/plain": [
       "[1] 10"
      ]
     },
     "metadata": {},
     "output_type": "display_data"
    },
    {
     "name": "stdout",
     "output_type": "stream",
     "text": [
      "[1] \"---- variavel z ------\"\n"
     ]
    },
    {
     "data": {
      "text/html": [
       "12"
      ],
      "text/latex": [
       "12"
      ],
      "text/markdown": [
       "12"
      ],
      "text/plain": [
       "[1] 12"
      ]
     },
     "metadata": {},
     "output_type": "display_data"
    },
    {
     "data": {
      "text/html": [
       "6.32455532033676"
      ],
      "text/latex": [
       "6.32455532033676"
      ],
      "text/markdown": [
       "6.32455532033676"
      ],
      "text/plain": [
       "[1] 6.324555"
      ]
     },
     "metadata": {},
     "output_type": "display_data"
    },
    {
     "data": {
      "text/html": [
       "40"
      ],
      "text/latex": [
       "40"
      ],
      "text/markdown": [
       "40"
      ],
      "text/plain": [
       "[1] 40"
      ]
     },
     "metadata": {},
     "output_type": "display_data"
    },
    {
     "name": "stdout",
     "output_type": "stream",
     "text": [
      "[1] \"---- variavel w ------\"\n"
     ]
    },
    {
     "data": {
      "text/html": [
       "30"
      ],
      "text/latex": [
       "30"
      ],
      "text/markdown": [
       "30"
      ],
      "text/plain": [
       "[1] 30"
      ]
     },
     "metadata": {},
     "output_type": "display_data"
    },
    {
     "data": {
      "text/html": [
       "15.8113883008419"
      ],
      "text/latex": [
       "15.8113883008419"
      ],
      "text/markdown": [
       "15.8113883008419"
      ],
      "text/plain": [
       "[1] 15.81139"
      ]
     },
     "metadata": {},
     "output_type": "display_data"
    },
    {
     "data": {
      "text/html": [
       "250"
      ],
      "text/latex": [
       "250"
      ],
      "text/markdown": [
       "250"
      ],
      "text/plain": [
       "[1] 250"
      ]
     },
     "metadata": {},
     "output_type": "display_data"
    }
   ],
   "source": [
    "# Exemplos de uso das funções estatísticas\n",
    "\n",
    "x <- c(1,2,3,4,5)\n",
    "y<- c(2,4,6,8,10)\n",
    "z <- c(4,8,12,16,20)\n",
    "\n",
    "w <- 10*x \n",
    "print(\"---- variavel x ------\")\n",
    "mean(x)\n",
    "sd(x)\n",
    "var(x)\n",
    "\n",
    "print(\"---- variavel y ------\")\n",
    "mean(y)\n",
    "sd(y)\n",
    "var(y)\n",
    "\n",
    "print(\"---- variavel z ------\")\n",
    "mean(z)\n",
    "sd(z)\n",
    "var(z)\n",
    "\n",
    "print(\"---- variavel w ------\")\n",
    "mean(w)\n",
    "sd(w)\n",
    "var(w)"
   ]
  },
  {
   "cell_type": "code",
   "execution_count": 20,
   "metadata": {},
   "outputs": [
    {
     "data": {
      "text/plain": [
       "   Min. 1st Qu.  Median    Mean 3rd Qu.    Max. \n",
       "     10      20      30      30      40      50 "
      ]
     },
     "metadata": {},
     "output_type": "display_data"
    }
   ],
   "source": [
    "summary(w)"
   ]
  },
  {
   "cell_type": "markdown",
   "metadata": {},
   "source": [
    "#### Exemplo com coeficiente de correlação\n",
    "- cor(x,y)\n",
    "- cov(x,y)"
   ]
  },
  {
   "cell_type": "code",
   "execution_count": 21,
   "metadata": {
    "scrolled": true
   },
   "outputs": [
    {
     "data": {
      "text/html": [
       "1"
      ],
      "text/latex": [
       "1"
      ],
      "text/markdown": [
       "1"
      ],
      "text/plain": [
       "[1] 1"
      ]
     },
     "metadata": {},
     "output_type": "display_data"
    },
    {
     "data": {
      "text/html": [
       "1"
      ],
      "text/latex": [
       "1"
      ],
      "text/markdown": [
       "1"
      ],
      "text/plain": [
       "[1] 1"
      ]
     },
     "metadata": {},
     "output_type": "display_data"
    }
   ],
   "source": [
    "# Exemplo de correlação e covariância\n",
    "a<- c(1,2,3)\n",
    "b<- c(4,5,6)\n",
    "cov(a,b)\n",
    "cor(a,b)"
   ]
  },
  {
   "cell_type": "code",
   "execution_count": 65,
   "metadata": {},
   "outputs": [
    {
     "data": {
      "text/html": [
       "<ol class=list-inline>\n",
       "\t<li>1</li>\n",
       "\t<li>2</li>\n",
       "\t<li>3</li>\n",
       "\t<li>4</li>\n",
       "\t<li>5</li>\n",
       "</ol>\n"
      ],
      "text/latex": [
       "\\begin{enumerate*}\n",
       "\\item 1\n",
       "\\item 2\n",
       "\\item 3\n",
       "\\item 4\n",
       "\\item 5\n",
       "\\end{enumerate*}\n"
      ],
      "text/markdown": [
       "1. 1\n",
       "2. 2\n",
       "3. 3\n",
       "4. 4\n",
       "5. 5\n",
       "\n",
       "\n"
      ],
      "text/plain": [
       "[1] 1 2 3 4 5"
      ]
     },
     "metadata": {},
     "output_type": "display_data"
    },
    {
     "data": {
      "text/html": [
       "<ol class=list-inline>\n",
       "\t<li>2</li>\n",
       "\t<li>4</li>\n",
       "\t<li>6</li>\n",
       "\t<li>8</li>\n",
       "\t<li>10</li>\n",
       "</ol>\n"
      ],
      "text/latex": [
       "\\begin{enumerate*}\n",
       "\\item 2\n",
       "\\item 4\n",
       "\\item 6\n",
       "\\item 8\n",
       "\\item 10\n",
       "\\end{enumerate*}\n"
      ],
      "text/markdown": [
       "1. 2\n",
       "2. 4\n",
       "3. 6\n",
       "4. 8\n",
       "5. 10\n",
       "\n",
       "\n"
      ],
      "text/plain": [
       "[1]  2  4  6  8 10"
      ]
     },
     "metadata": {},
     "output_type": "display_data"
    },
    {
     "data": {
      "text/html": [
       "<ol class=list-inline>\n",
       "\t<li>4</li>\n",
       "\t<li>8</li>\n",
       "\t<li>12</li>\n",
       "\t<li>16</li>\n",
       "\t<li>20</li>\n",
       "</ol>\n"
      ],
      "text/latex": [
       "\\begin{enumerate*}\n",
       "\\item 4\n",
       "\\item 8\n",
       "\\item 12\n",
       "\\item 16\n",
       "\\item 20\n",
       "\\end{enumerate*}\n"
      ],
      "text/markdown": [
       "1. 4\n",
       "2. 8\n",
       "3. 12\n",
       "4. 16\n",
       "5. 20\n",
       "\n",
       "\n"
      ],
      "text/plain": [
       "[1]  4  8 12 16 20"
      ]
     },
     "metadata": {},
     "output_type": "display_data"
    },
    {
     "data": {
      "text/html": [
       "<ol class=list-inline>\n",
       "\t<li>-2</li>\n",
       "\t<li>-4</li>\n",
       "\t<li>-6</li>\n",
       "\t<li>-8</li>\n",
       "\t<li>-10</li>\n",
       "</ol>\n"
      ],
      "text/latex": [
       "\\begin{enumerate*}\n",
       "\\item -2\n",
       "\\item -4\n",
       "\\item -6\n",
       "\\item -8\n",
       "\\item -10\n",
       "\\end{enumerate*}\n"
      ],
      "text/markdown": [
       "1. -2\n",
       "2. -4\n",
       "3. -6\n",
       "4. -8\n",
       "5. -10\n",
       "\n",
       "\n"
      ],
      "text/plain": [
       "[1]  -2  -4  -6  -8 -10"
      ]
     },
     "metadata": {},
     "output_type": "display_data"
    },
    {
     "data": {
      "text/html": [
       "5"
      ],
      "text/latex": [
       "5"
      ],
      "text/markdown": [
       "5"
      ],
      "text/plain": [
       "[1] 5"
      ]
     },
     "metadata": {},
     "output_type": "display_data"
    },
    {
     "data": {
      "text/html": [
       "1"
      ],
      "text/latex": [
       "1"
      ],
      "text/markdown": [
       "1"
      ],
      "text/plain": [
       "[1] 1"
      ]
     },
     "metadata": {},
     "output_type": "display_data"
    },
    {
     "data": {
      "text/html": [
       "10"
      ],
      "text/latex": [
       "10"
      ],
      "text/markdown": [
       "10"
      ],
      "text/plain": [
       "[1] 10"
      ]
     },
     "metadata": {},
     "output_type": "display_data"
    },
    {
     "data": {
      "text/html": [
       "1"
      ],
      "text/latex": [
       "1"
      ],
      "text/markdown": [
       "1"
      ],
      "text/plain": [
       "[1] 1"
      ]
     },
     "metadata": {},
     "output_type": "display_data"
    },
    {
     "data": {
      "text/html": [
       "-5"
      ],
      "text/latex": [
       "-5"
      ],
      "text/markdown": [
       "-5"
      ],
      "text/plain": [
       "[1] -5"
      ]
     },
     "metadata": {},
     "output_type": "display_data"
    },
    {
     "data": {
      "text/html": [
       "-1"
      ],
      "text/latex": [
       "-1"
      ],
      "text/markdown": [
       "-1"
      ],
      "text/plain": [
       "[1] -1"
      ]
     },
     "metadata": {},
     "output_type": "display_data"
    }
   ],
   "source": [
    "# Exemplo de correlação e covariância\n",
    "x\n",
    "y\n",
    "z\n",
    "t <- -2*x\n",
    "t\n",
    "\n",
    "cov(x,y)\n",
    "cor(x,y)\n",
    "\n",
    "cov(x,z)\n",
    "cor(x,z)\n",
    "\n",
    "cov(x,t)\n",
    "cor(x,t)"
   ]
  },
  {
   "cell_type": "code",
   "execution_count": 68,
   "metadata": {},
   "outputs": [
    {
     "data": {
      "text/html": [
       "0.5"
      ],
      "text/latex": [
       "0.5"
      ],
      "text/markdown": [
       "0.5"
      ],
      "text/plain": [
       "[1] 0.5"
      ]
     },
     "metadata": {},
     "output_type": "display_data"
    },
    {
     "data": {
      "text/html": [
       "0.208514414057075"
      ],
      "text/latex": [
       "0.208514414057075"
      ],
      "text/markdown": [
       "0.208514414057075"
      ],
      "text/plain": [
       "[1] 0.2085144"
      ]
     },
     "metadata": {},
     "output_type": "display_data"
    }
   ],
   "source": [
    "r<-c(1,2,4,4,1)\n",
    "cov(x,r)\n",
    "cor(x,r)"
   ]
  },
  {
   "cell_type": "code",
   "execution_count": 45,
   "metadata": {
    "scrolled": true
   },
   "outputs": [
    {
     "name": "stdout",
     "output_type": "stream",
     "text": [
      "[1] \"Programa exemplificando o uso de funções com vetores\"\n"
     ]
    },
    {
     "data": {
      "text/html": [
       "5"
      ],
      "text/latex": [
       "5"
      ],
      "text/markdown": [
       "5"
      ],
      "text/plain": [
       "[1] 5"
      ]
     },
     "metadata": {},
     "output_type": "display_data"
    },
    {
     "data": {
      "text/html": [
       "1.8"
      ],
      "text/latex": [
       "1.8"
      ],
      "text/markdown": [
       "1.8"
      ],
      "text/plain": [
       "[1] 1.8"
      ]
     },
     "metadata": {},
     "output_type": "display_data"
    },
    {
     "data": {
      "text/html": [
       "3"
      ],
      "text/latex": [
       "3"
      ],
      "text/markdown": [
       "3"
      ],
      "text/plain": [
       "[1] 3"
      ]
     },
     "metadata": {},
     "output_type": "display_data"
    },
    {
     "data": {
      "text/html": [
       "1"
      ],
      "text/latex": [
       "1"
      ],
      "text/markdown": [
       "1"
      ],
      "text/plain": [
       "[1] 1"
      ]
     },
     "metadata": {},
     "output_type": "display_data"
    },
    {
     "data": {
      "text/html": [
       "0.836660026534076"
      ],
      "text/latex": [
       "0.836660026534076"
      ],
      "text/markdown": [
       "0.836660026534076"
      ],
      "text/plain": [
       "[1] 0.83666"
      ]
     },
     "metadata": {},
     "output_type": "display_data"
    },
    {
     "data": {
      "text/html": [
       "0.7"
      ],
      "text/latex": [
       "0.7"
      ],
      "text/markdown": [
       "0.7"
      ],
      "text/plain": [
       "[1] 0.7"
      ]
     },
     "metadata": {},
     "output_type": "display_data"
    },
    {
     "data": {
      "text/html": [
       "2"
      ],
      "text/latex": [
       "2"
      ],
      "text/markdown": [
       "2"
      ],
      "text/plain": [
       "[1] 2"
      ]
     },
     "metadata": {},
     "output_type": "display_data"
    },
    {
     "data": {
      "text/html": [
       "<strong>25%:</strong> 1"
      ],
      "text/latex": [
       "\\textbf{25\\textbackslash{}\\%:} 1"
      ],
      "text/markdown": [
       "**25%:** 1"
      ],
      "text/plain": [
       "25% \n",
       "  1 "
      ]
     },
     "metadata": {},
     "output_type": "display_data"
    },
    {
     "data": {
      "text/html": [
       "<strong>50%:</strong> 2"
      ],
      "text/latex": [
       "\\textbf{50\\textbackslash{}\\%:} 2"
      ],
      "text/markdown": [
       "**50%:** 2"
      ],
      "text/plain": [
       "50% \n",
       "  2 "
      ]
     },
     "metadata": {},
     "output_type": "display_data"
    },
    {
     "data": {
      "text/html": [
       "<strong>75%:</strong> 2"
      ],
      "text/latex": [
       "\\textbf{75\\textbackslash{}\\%:} 2"
      ],
      "text/markdown": [
       "**75%:** 2"
      ],
      "text/plain": [
       "75% \n",
       "  2 "
      ]
     },
     "metadata": {},
     "output_type": "display_data"
    },
    {
     "data": {
      "text/html": [
       "<strong>90%:</strong> 2.6"
      ],
      "text/latex": [
       "\\textbf{90\\textbackslash{}\\%:} 2.6"
      ],
      "text/markdown": [
       "**90%:** 2.6"
      ],
      "text/plain": [
       "90% \n",
       "2.6 "
      ]
     },
     "metadata": {},
     "output_type": "display_data"
    },
    {
     "data": {
      "text/html": [
       "<strong>100%:</strong> 3"
      ],
      "text/latex": [
       "\\textbf{100\\textbackslash{}\\%:} 3"
      ],
      "text/markdown": [
       "**100%:** 3"
      ],
      "text/plain": [
       "100% \n",
       "   3 "
      ]
     },
     "metadata": {},
     "output_type": "display_data"
    },
    {
     "data": {
      "text/plain": [
       "   Min. 1st Qu.  Median    Mean 3rd Qu.    Max. \n",
       "    1.0     1.0     2.0     1.8     2.0     3.0 "
      ]
     },
     "metadata": {},
     "output_type": "display_data"
    }
   ],
   "source": [
    "print(\"Programa exemplificando o uso de funções com vetores\")\n",
    "vetorX <- c(1,2,3,2,1)\n",
    "length(vetorX)\n",
    "mean(vetorX)\n",
    "max(vetorX)\n",
    "min(vetorX)\n",
    "sd(vetorX)\n",
    "var(vetorX)\n",
    "median(vetorX)\n",
    "quantile(vetorX,0.25)\n",
    "quantile(vetorX,0.50)\n",
    "quantile(vetorX,0.75)\n",
    "quantile(vetorX,0.90)\n",
    "quantile(vetorX,1)\n",
    "summary(vetorX)"
   ]
  },
  {
   "cell_type": "code",
   "execution_count": null,
   "metadata": {
    "collapsed": true,
    "scrolled": true
   },
   "outputs": [],
   "source": [
    "# Exercício\n",
    "print(\"Exercício: Escreva um Programa similar ao anterior para vetorY e vetorZ\")\n",
    "vetorY <- c(5,20,40,50,55,70,80,80,90,100)\n",
    "vetorZ <- c(10,20,30,40,50,60,70,80,90)\n",
    "# escrever o programa\n"
   ]
  },
  {
   "cell_type": "markdown",
   "metadata": {},
   "source": [
    "## 2.  Como Carregar Dados/Arquivos"
   ]
  },
  {
   "cell_type": "markdown",
   "metadata": {},
   "source": [
    "### 2.1  Carregar um dado já disponível\n",
    " Em R já há disponível uma série de dataset para serem utilizados. Par aimportar basta o seguinte comando:\n",
    "- data(dataset_desejado)"
   ]
  },
  {
   "cell_type": "code",
   "execution_count": 24,
   "metadata": {},
   "outputs": [
    {
     "data": {
      "text/html": [
       "<table>\n",
       "<thead><tr><th></th><th scope=col>mpg</th><th scope=col>cyl</th><th scope=col>disp</th><th scope=col>hp</th><th scope=col>drat</th><th scope=col>wt</th><th scope=col>qsec</th><th scope=col>vs</th><th scope=col>am</th><th scope=col>gear</th><th scope=col>carb</th></tr></thead>\n",
       "<tbody>\n",
       "\t<tr><th scope=row>Mazda RX4</th><td>21.0 </td><td>6    </td><td>160  </td><td>110  </td><td>3.90 </td><td>2.620</td><td>16.46</td><td>0    </td><td>1    </td><td>4    </td><td>4    </td></tr>\n",
       "\t<tr><th scope=row>Mazda RX4 Wag</th><td>21.0 </td><td>6    </td><td>160  </td><td>110  </td><td>3.90 </td><td>2.875</td><td>17.02</td><td>0    </td><td>1    </td><td>4    </td><td>4    </td></tr>\n",
       "\t<tr><th scope=row>Datsun 710</th><td>22.8 </td><td>4    </td><td>108  </td><td> 93  </td><td>3.85 </td><td>2.320</td><td>18.61</td><td>1    </td><td>1    </td><td>4    </td><td>1    </td></tr>\n",
       "\t<tr><th scope=row>Hornet 4 Drive</th><td>21.4 </td><td>6    </td><td>258  </td><td>110  </td><td>3.08 </td><td>3.215</td><td>19.44</td><td>1    </td><td>0    </td><td>3    </td><td>1    </td></tr>\n",
       "\t<tr><th scope=row>Hornet Sportabout</th><td>18.7 </td><td>8    </td><td>360  </td><td>175  </td><td>3.15 </td><td>3.440</td><td>17.02</td><td>0    </td><td>0    </td><td>3    </td><td>2    </td></tr>\n",
       "\t<tr><th scope=row>Valiant</th><td>18.1 </td><td>6    </td><td>225  </td><td>105  </td><td>2.76 </td><td>3.460</td><td>20.22</td><td>1    </td><td>0    </td><td>3    </td><td>1    </td></tr>\n",
       "</tbody>\n",
       "</table>\n"
      ],
      "text/latex": [
       "\\begin{tabular}{r|lllllllllll}\n",
       "  & mpg & cyl & disp & hp & drat & wt & qsec & vs & am & gear & carb\\\\\n",
       "\\hline\n",
       "\tMazda RX4 & 21.0  & 6     & 160   & 110   & 3.90  & 2.620 & 16.46 & 0     & 1     & 4     & 4    \\\\\n",
       "\tMazda RX4 Wag & 21.0  & 6     & 160   & 110   & 3.90  & 2.875 & 17.02 & 0     & 1     & 4     & 4    \\\\\n",
       "\tDatsun 710 & 22.8  & 4     & 108   &  93   & 3.85  & 2.320 & 18.61 & 1     & 1     & 4     & 1    \\\\\n",
       "\tHornet 4 Drive & 21.4  & 6     & 258   & 110   & 3.08  & 3.215 & 19.44 & 1     & 0     & 3     & 1    \\\\\n",
       "\tHornet Sportabout & 18.7  & 8     & 360   & 175   & 3.15  & 3.440 & 17.02 & 0     & 0     & 3     & 2    \\\\\n",
       "\tValiant & 18.1  & 6     & 225   & 105   & 2.76  & 3.460 & 20.22 & 1     & 0     & 3     & 1    \\\\\n",
       "\\end{tabular}\n"
      ],
      "text/markdown": [
       "\n",
       "| <!--/--> | mpg | cyl | disp | hp | drat | wt | qsec | vs | am | gear | carb | \n",
       "|---|---|---|---|---|---|\n",
       "| Mazda RX4 | 21.0  | 6     | 160   | 110   | 3.90  | 2.620 | 16.46 | 0     | 1     | 4     | 4     | \n",
       "| Mazda RX4 Wag | 21.0  | 6     | 160   | 110   | 3.90  | 2.875 | 17.02 | 0     | 1     | 4     | 4     | \n",
       "| Datsun 710 | 22.8  | 4     | 108   |  93   | 3.85  | 2.320 | 18.61 | 1     | 1     | 4     | 1     | \n",
       "| Hornet 4 Drive | 21.4  | 6     | 258   | 110   | 3.08  | 3.215 | 19.44 | 1     | 0     | 3     | 1     | \n",
       "| Hornet Sportabout | 18.7  | 8     | 360   | 175   | 3.15  | 3.440 | 17.02 | 0     | 0     | 3     | 2     | \n",
       "| Valiant | 18.1  | 6     | 225   | 105   | 2.76  | 3.460 | 20.22 | 1     | 0     | 3     | 1     | \n",
       "\n",
       "\n"
      ],
      "text/plain": [
       "                  mpg  cyl disp hp  drat wt    qsec  vs am gear carb\n",
       "Mazda RX4         21.0 6   160  110 3.90 2.620 16.46 0  1  4    4   \n",
       "Mazda RX4 Wag     21.0 6   160  110 3.90 2.875 17.02 0  1  4    4   \n",
       "Datsun 710        22.8 4   108   93 3.85 2.320 18.61 1  1  4    1   \n",
       "Hornet 4 Drive    21.4 6   258  110 3.08 3.215 19.44 1  0  3    1   \n",
       "Hornet Sportabout 18.7 8   360  175 3.15 3.440 17.02 0  0  3    2   \n",
       "Valiant           18.1 6   225  105 2.76 3.460 20.22 1  0  3    1   "
      ]
     },
     "metadata": {},
     "output_type": "display_data"
    }
   ],
   "source": [
    "# Exemplo de carregamento do dataset mtcars\n",
    "data(mtcars)\n",
    "head(mtcars)  # mostra apenas as 5 primeiras linhas"
   ]
  },
  {
   "cell_type": "code",
   "execution_count": 25,
   "metadata": {},
   "outputs": [
    {
     "data": {
      "text/html": [
       "TRUE"
      ],
      "text/latex": [
       "TRUE"
      ],
      "text/markdown": [
       "TRUE"
      ],
      "text/plain": [
       "[1] TRUE"
      ]
     },
     "metadata": {},
     "output_type": "display_data"
    },
    {
     "data": {
      "text/html": [
       "<ol class=list-inline>\n",
       "\t<li>'mpg'</li>\n",
       "\t<li>'cyl'</li>\n",
       "\t<li>'disp'</li>\n",
       "\t<li>'hp'</li>\n",
       "\t<li>'drat'</li>\n",
       "\t<li>'wt'</li>\n",
       "\t<li>'qsec'</li>\n",
       "\t<li>'vs'</li>\n",
       "\t<li>'am'</li>\n",
       "\t<li>'gear'</li>\n",
       "\t<li>'carb'</li>\n",
       "</ol>\n"
      ],
      "text/latex": [
       "\\begin{enumerate*}\n",
       "\\item 'mpg'\n",
       "\\item 'cyl'\n",
       "\\item 'disp'\n",
       "\\item 'hp'\n",
       "\\item 'drat'\n",
       "\\item 'wt'\n",
       "\\item 'qsec'\n",
       "\\item 'vs'\n",
       "\\item 'am'\n",
       "\\item 'gear'\n",
       "\\item 'carb'\n",
       "\\end{enumerate*}\n"
      ],
      "text/markdown": [
       "1. 'mpg'\n",
       "2. 'cyl'\n",
       "3. 'disp'\n",
       "4. 'hp'\n",
       "5. 'drat'\n",
       "6. 'wt'\n",
       "7. 'qsec'\n",
       "8. 'vs'\n",
       "9. 'am'\n",
       "10. 'gear'\n",
       "11. 'carb'\n",
       "\n",
       "\n"
      ],
      "text/plain": [
       " [1] \"mpg\"  \"cyl\"  \"disp\" \"hp\"   \"drat\" \"wt\"   \"qsec\" \"vs\"   \"am\"   \"gear\"\n",
       "[11] \"carb\""
      ]
     },
     "metadata": {},
     "output_type": "display_data"
    },
    {
     "data": {
      "text/html": [
       "<ol class=list-inline>\n",
       "\t<li>32</li>\n",
       "\t<li>11</li>\n",
       "</ol>\n"
      ],
      "text/latex": [
       "\\begin{enumerate*}\n",
       "\\item 32\n",
       "\\item 11\n",
       "\\end{enumerate*}\n"
      ],
      "text/markdown": [
       "1. 32\n",
       "2. 11\n",
       "\n",
       "\n"
      ],
      "text/plain": [
       "[1] 32 11"
      ]
     },
     "metadata": {},
     "output_type": "display_data"
    }
   ],
   "source": [
    "is.data.frame(mtcars) # verifica se é um data-frame\n",
    "names(mtcars) # nome das colunas (variáveis)\n",
    "dim(mtcars) # dimensões do data.frame\n",
    "help(mtcars) # mostra o ‘‘help’’que explica os dados"
   ]
  },
  {
   "cell_type": "code",
   "execution_count": null,
   "metadata": {
    "collapsed": true
   },
   "outputs": [],
   "source": [
    "#### Exercício: - Obter a quantidade de carros com potência acima de 100hp\n",
    "\n"
   ]
  },
  {
   "cell_type": "code",
   "execution_count": null,
   "metadata": {
    "collapsed": true
   },
   "outputs": [],
   "source": [
    "### Exercício - obter qual carro com maior aceleração (qsec - quantidade de segundos para percorrer 1/4 de milha)\n"
   ]
  },
  {
   "cell_type": "code",
   "execution_count": null,
   "metadata": {
    "collapsed": true
   },
   "outputs": [],
   "source": [
    "### Exercício - obter os carros com 2 carburadores que pesam mais que 1000 lbs.\n",
    "# Use subset()\n"
   ]
  },
  {
   "cell_type": "code",
   "execution_count": 27,
   "metadata": {},
   "outputs": [
    {
     "data": {
      "text/html": [
       "<table>\n",
       "<thead><tr><th scope=col>Ozone</th><th scope=col>Solar.R</th><th scope=col>Wind</th><th scope=col>Temp</th><th scope=col>Month</th><th scope=col>Day</th></tr></thead>\n",
       "<tbody>\n",
       "\t<tr><td>41  </td><td>190 </td><td> 7.4</td><td>67  </td><td>5   </td><td>1   </td></tr>\n",
       "\t<tr><td>36  </td><td>118 </td><td> 8.0</td><td>72  </td><td>5   </td><td>2   </td></tr>\n",
       "\t<tr><td>12  </td><td>149 </td><td>12.6</td><td>74  </td><td>5   </td><td>3   </td></tr>\n",
       "\t<tr><td>18  </td><td>313 </td><td>11.5</td><td>62  </td><td>5   </td><td>4   </td></tr>\n",
       "\t<tr><td>NA  </td><td> NA </td><td>14.3</td><td>56  </td><td>5   </td><td>5   </td></tr>\n",
       "\t<tr><td>28  </td><td> NA </td><td>14.9</td><td>66  </td><td>5   </td><td>6   </td></tr>\n",
       "</tbody>\n",
       "</table>\n"
      ],
      "text/latex": [
       "\\begin{tabular}{r|llllll}\n",
       " Ozone & Solar.R & Wind & Temp & Month & Day\\\\\n",
       "\\hline\n",
       "\t 41   & 190  &  7.4 & 67   & 5    & 1   \\\\\n",
       "\t 36   & 118  &  8.0 & 72   & 5    & 2   \\\\\n",
       "\t 12   & 149  & 12.6 & 74   & 5    & 3   \\\\\n",
       "\t 18   & 313  & 11.5 & 62   & 5    & 4   \\\\\n",
       "\t NA   &  NA  & 14.3 & 56   & 5    & 5   \\\\\n",
       "\t 28   &  NA  & 14.9 & 66   & 5    & 6   \\\\\n",
       "\\end{tabular}\n"
      ],
      "text/markdown": [
       "\n",
       "Ozone | Solar.R | Wind | Temp | Month | Day | \n",
       "|---|---|---|---|---|---|\n",
       "| 41   | 190  |  7.4 | 67   | 5    | 1    | \n",
       "| 36   | 118  |  8.0 | 72   | 5    | 2    | \n",
       "| 12   | 149  | 12.6 | 74   | 5    | 3    | \n",
       "| 18   | 313  | 11.5 | 62   | 5    | 4    | \n",
       "| NA   |  NA  | 14.3 | 56   | 5    | 5    | \n",
       "| 28   |  NA  | 14.9 | 66   | 5    | 6    | \n",
       "\n",
       "\n"
      ],
      "text/plain": [
       "  Ozone Solar.R Wind Temp Month Day\n",
       "1 41    190      7.4 67   5     1  \n",
       "2 36    118      8.0 72   5     2  \n",
       "3 12    149     12.6 74   5     3  \n",
       "4 18    313     11.5 62   5     4  \n",
       "5 NA     NA     14.3 56   5     5  \n",
       "6 28     NA     14.9 66   5     6  "
      ]
     },
     "metadata": {},
     "output_type": "display_data"
    }
   ],
   "source": [
    "# Exemplo de carregamento do dataset airquality\n",
    "data(airquality) # carrega os dados\n",
    "head(airquality) # mostra os dados"
   ]
  },
  {
   "cell_type": "code",
   "execution_count": 12,
   "metadata": {},
   "outputs": [
    {
     "data": {
      "text/html": [
       "TRUE"
      ],
      "text/latex": [
       "TRUE"
      ],
      "text/markdown": [
       "TRUE"
      ],
      "text/plain": [
       "[1] TRUE"
      ]
     },
     "metadata": {},
     "output_type": "display_data"
    },
    {
     "data": {
      "text/html": [
       "<ol class=list-inline>\n",
       "\t<li>'Ozone'</li>\n",
       "\t<li>'Solar.R'</li>\n",
       "\t<li>'Wind'</li>\n",
       "\t<li>'Temp'</li>\n",
       "\t<li>'Month'</li>\n",
       "\t<li>'Day'</li>\n",
       "</ol>\n"
      ],
      "text/latex": [
       "\\begin{enumerate*}\n",
       "\\item 'Ozone'\n",
       "\\item 'Solar.R'\n",
       "\\item 'Wind'\n",
       "\\item 'Temp'\n",
       "\\item 'Month'\n",
       "\\item 'Day'\n",
       "\\end{enumerate*}\n"
      ],
      "text/markdown": [
       "1. 'Ozone'\n",
       "2. 'Solar.R'\n",
       "3. 'Wind'\n",
       "4. 'Temp'\n",
       "5. 'Month'\n",
       "6. 'Day'\n",
       "\n",
       "\n"
      ],
      "text/plain": [
       "[1] \"Ozone\"   \"Solar.R\" \"Wind\"    \"Temp\"    \"Month\"   \"Day\"    "
      ]
     },
     "metadata": {},
     "output_type": "display_data"
    },
    {
     "data": {
      "text/html": [
       "<ol class=list-inline>\n",
       "\t<li>153</li>\n",
       "\t<li>6</li>\n",
       "</ol>\n"
      ],
      "text/latex": [
       "\\begin{enumerate*}\n",
       "\\item 153\n",
       "\\item 6\n",
       "\\end{enumerate*}\n"
      ],
      "text/markdown": [
       "1. 153\n",
       "2. 6\n",
       "\n",
       "\n"
      ],
      "text/plain": [
       "[1] 153   6"
      ]
     },
     "metadata": {},
     "output_type": "display_data"
    }
   ],
   "source": [
    "is.data.frame(airquality) # verifica se é um data-frame\n",
    "names(airquality) # nome das colunas (variáveis)\n",
    "dim(airquality) # dimensões do data.frame\n",
    "help(airquality) # mostra o ‘‘help’’que explica os dados"
   ]
  },
  {
   "cell_type": "code",
   "execution_count": 14,
   "metadata": {},
   "outputs": [
    {
     "data": {
      "text/plain": [
       "     Ozone           Solar.R           Wind             Temp      \n",
       " Min.   :  1.00   Min.   :  7.0   Min.   : 1.700   Min.   :56.00  \n",
       " 1st Qu.: 18.00   1st Qu.:115.8   1st Qu.: 7.400   1st Qu.:72.00  \n",
       " Median : 31.50   Median :205.0   Median : 9.700   Median :79.00  \n",
       " Mean   : 42.13   Mean   :185.9   Mean   : 9.958   Mean   :77.88  \n",
       " 3rd Qu.: 63.25   3rd Qu.:258.8   3rd Qu.:11.500   3rd Qu.:85.00  \n",
       " Max.   :168.00   Max.   :334.0   Max.   :20.700   Max.   :97.00  \n",
       " NA's   :37       NA's   :7                                       \n",
       "     Month            Day      \n",
       " Min.   :5.000   Min.   : 1.0  \n",
       " 1st Qu.:6.000   1st Qu.: 8.0  \n",
       " Median :7.000   Median :16.0  \n",
       " Mean   :6.993   Mean   :15.8  \n",
       " 3rd Qu.:8.000   3rd Qu.:23.0  \n",
       " Max.   :9.000   Max.   :31.0  \n",
       "                               "
      ]
     },
     "metadata": {},
     "output_type": "display_data"
    },
    {
     "data": {
      "text/plain": [
       "     Ozone           Solar.R           Wind             Temp      \n",
       " Min.   :  1.00   Min.   :  7.0   Min.   : 1.700   Min.   :56.00  \n",
       " 1st Qu.: 18.00   1st Qu.:115.8   1st Qu.: 7.400   1st Qu.:72.00  \n",
       " Median : 31.50   Median :205.0   Median : 9.700   Median :79.00  \n",
       " Mean   : 42.13   Mean   :185.9   Mean   : 9.958   Mean   :77.88  \n",
       " 3rd Qu.: 63.25   3rd Qu.:258.8   3rd Qu.:11.500   3rd Qu.:85.00  \n",
       " Max.   :168.00   Max.   :334.0   Max.   :20.700   Max.   :97.00  \n",
       " NA's   :37       NA's   :7                                       "
      ]
     },
     "metadata": {},
     "output_type": "display_data"
    }
   ],
   "source": [
    "summary(airquality) # sumário\n",
    "summary(airquality[,1:4]) # sumário das 4 primeiras variáveis\n"
   ]
  },
  {
   "cell_type": "code",
   "execution_count": 28,
   "metadata": {},
   "outputs": [
    {
     "data": {
      "text/html": [
       "<ol class=list-inline>\n",
       "\t<li>7.4</li>\n",
       "\t<li>8</li>\n",
       "\t<li>12.6</li>\n",
       "\t<li>11.5</li>\n",
       "\t<li>14.3</li>\n",
       "\t<li>14.9</li>\n",
       "\t<li>8.6</li>\n",
       "\t<li>13.8</li>\n",
       "\t<li>20.1</li>\n",
       "\t<li>8.6</li>\n",
       "\t<li>6.9</li>\n",
       "\t<li>9.7</li>\n",
       "\t<li>9.2</li>\n",
       "\t<li>10.9</li>\n",
       "\t<li>13.2</li>\n",
       "\t<li>11.5</li>\n",
       "\t<li>12</li>\n",
       "\t<li>18.4</li>\n",
       "\t<li>11.5</li>\n",
       "\t<li>9.7</li>\n",
       "\t<li>9.7</li>\n",
       "\t<li>16.6</li>\n",
       "\t<li>9.7</li>\n",
       "\t<li>12</li>\n",
       "\t<li>16.6</li>\n",
       "\t<li>14.9</li>\n",
       "\t<li>8</li>\n",
       "\t<li>12</li>\n",
       "\t<li>14.9</li>\n",
       "\t<li>5.7</li>\n",
       "\t<li>7.4</li>\n",
       "\t<li>8.6</li>\n",
       "\t<li>9.7</li>\n",
       "\t<li>16.1</li>\n",
       "\t<li>9.2</li>\n",
       "\t<li>8.6</li>\n",
       "\t<li>14.3</li>\n",
       "\t<li>9.7</li>\n",
       "\t<li>6.9</li>\n",
       "\t<li>13.8</li>\n",
       "\t<li>11.5</li>\n",
       "\t<li>10.9</li>\n",
       "\t<li>9.2</li>\n",
       "\t<li>8</li>\n",
       "\t<li>13.8</li>\n",
       "\t<li>11.5</li>\n",
       "\t<li>14.9</li>\n",
       "\t<li>20.7</li>\n",
       "\t<li>9.2</li>\n",
       "\t<li>11.5</li>\n",
       "\t<li>10.3</li>\n",
       "\t<li>6.3</li>\n",
       "\t<li>1.7</li>\n",
       "\t<li>4.6</li>\n",
       "\t<li>6.3</li>\n",
       "\t<li>8</li>\n",
       "\t<li>8</li>\n",
       "\t<li>10.3</li>\n",
       "\t<li>11.5</li>\n",
       "\t<li>14.9</li>\n",
       "\t<li>8</li>\n",
       "\t<li>4.1</li>\n",
       "\t<li>9.2</li>\n",
       "\t<li>9.2</li>\n",
       "\t<li>10.9</li>\n",
       "\t<li>4.6</li>\n",
       "\t<li>10.9</li>\n",
       "\t<li>5.1</li>\n",
       "\t<li>6.3</li>\n",
       "\t<li>5.7</li>\n",
       "\t<li>7.4</li>\n",
       "\t<li>8.6</li>\n",
       "\t<li>14.3</li>\n",
       "\t<li>14.9</li>\n",
       "\t<li>14.9</li>\n",
       "\t<li>14.3</li>\n",
       "\t<li>6.9</li>\n",
       "\t<li>10.3</li>\n",
       "\t<li>6.3</li>\n",
       "\t<li>5.1</li>\n",
       "\t<li>11.5</li>\n",
       "\t<li>6.9</li>\n",
       "\t<li>9.7</li>\n",
       "\t<li>11.5</li>\n",
       "\t<li>8.6</li>\n",
       "\t<li>8</li>\n",
       "\t<li>8.6</li>\n",
       "\t<li>12</li>\n",
       "\t<li>7.4</li>\n",
       "\t<li>7.4</li>\n",
       "\t<li>7.4</li>\n",
       "\t<li>9.2</li>\n",
       "\t<li>6.9</li>\n",
       "\t<li>13.8</li>\n",
       "\t<li>7.4</li>\n",
       "\t<li>6.9</li>\n",
       "\t<li>7.4</li>\n",
       "\t<li>4.6</li>\n",
       "\t<li>4</li>\n",
       "\t<li>10.3</li>\n",
       "\t<li>8</li>\n",
       "\t<li>8.6</li>\n",
       "\t<li>11.5</li>\n",
       "\t<li>11.5</li>\n",
       "\t<li>11.5</li>\n",
       "\t<li>9.7</li>\n",
       "\t<li>11.5</li>\n",
       "\t<li>10.3</li>\n",
       "\t<li>6.3</li>\n",
       "\t<li>7.4</li>\n",
       "\t<li>10.9</li>\n",
       "\t<li>10.3</li>\n",
       "\t<li>15.5</li>\n",
       "\t<li>14.3</li>\n",
       "\t<li>12.6</li>\n",
       "\t<li>9.7</li>\n",
       "\t<li>3.4</li>\n",
       "\t<li>8</li>\n",
       "\t<li>5.7</li>\n",
       "\t<li>9.7</li>\n",
       "\t<li>2.3</li>\n",
       "\t<li>6.3</li>\n",
       "\t<li>6.3</li>\n",
       "\t<li>6.9</li>\n",
       "\t<li>5.1</li>\n",
       "\t<li>2.8</li>\n",
       "\t<li>4.6</li>\n",
       "\t<li>7.4</li>\n",
       "\t<li>15.5</li>\n",
       "\t<li>10.9</li>\n",
       "\t<li>10.3</li>\n",
       "\t<li>10.9</li>\n",
       "\t<li>9.7</li>\n",
       "\t<li>14.9</li>\n",
       "\t<li>15.5</li>\n",
       "\t<li>6.3</li>\n",
       "\t<li>10.9</li>\n",
       "\t<li>11.5</li>\n",
       "\t<li>6.9</li>\n",
       "\t<li>13.8</li>\n",
       "\t<li>10.3</li>\n",
       "\t<li>10.3</li>\n",
       "\t<li>8</li>\n",
       "\t<li>12.6</li>\n",
       "\t<li>9.2</li>\n",
       "\t<li>10.3</li>\n",
       "\t<li>10.3</li>\n",
       "\t<li>16.6</li>\n",
       "\t<li>6.9</li>\n",
       "\t<li>13.2</li>\n",
       "\t<li>14.3</li>\n",
       "\t<li>8</li>\n",
       "\t<li>11.5</li>\n",
       "</ol>\n"
      ],
      "text/latex": [
       "\\begin{enumerate*}\n",
       "\\item 7.4\n",
       "\\item 8\n",
       "\\item 12.6\n",
       "\\item 11.5\n",
       "\\item 14.3\n",
       "\\item 14.9\n",
       "\\item 8.6\n",
       "\\item 13.8\n",
       "\\item 20.1\n",
       "\\item 8.6\n",
       "\\item 6.9\n",
       "\\item 9.7\n",
       "\\item 9.2\n",
       "\\item 10.9\n",
       "\\item 13.2\n",
       "\\item 11.5\n",
       "\\item 12\n",
       "\\item 18.4\n",
       "\\item 11.5\n",
       "\\item 9.7\n",
       "\\item 9.7\n",
       "\\item 16.6\n",
       "\\item 9.7\n",
       "\\item 12\n",
       "\\item 16.6\n",
       "\\item 14.9\n",
       "\\item 8\n",
       "\\item 12\n",
       "\\item 14.9\n",
       "\\item 5.7\n",
       "\\item 7.4\n",
       "\\item 8.6\n",
       "\\item 9.7\n",
       "\\item 16.1\n",
       "\\item 9.2\n",
       "\\item 8.6\n",
       "\\item 14.3\n",
       "\\item 9.7\n",
       "\\item 6.9\n",
       "\\item 13.8\n",
       "\\item 11.5\n",
       "\\item 10.9\n",
       "\\item 9.2\n",
       "\\item 8\n",
       "\\item 13.8\n",
       "\\item 11.5\n",
       "\\item 14.9\n",
       "\\item 20.7\n",
       "\\item 9.2\n",
       "\\item 11.5\n",
       "\\item 10.3\n",
       "\\item 6.3\n",
       "\\item 1.7\n",
       "\\item 4.6\n",
       "\\item 6.3\n",
       "\\item 8\n",
       "\\item 8\n",
       "\\item 10.3\n",
       "\\item 11.5\n",
       "\\item 14.9\n",
       "\\item 8\n",
       "\\item 4.1\n",
       "\\item 9.2\n",
       "\\item 9.2\n",
       "\\item 10.9\n",
       "\\item 4.6\n",
       "\\item 10.9\n",
       "\\item 5.1\n",
       "\\item 6.3\n",
       "\\item 5.7\n",
       "\\item 7.4\n",
       "\\item 8.6\n",
       "\\item 14.3\n",
       "\\item 14.9\n",
       "\\item 14.9\n",
       "\\item 14.3\n",
       "\\item 6.9\n",
       "\\item 10.3\n",
       "\\item 6.3\n",
       "\\item 5.1\n",
       "\\item 11.5\n",
       "\\item 6.9\n",
       "\\item 9.7\n",
       "\\item 11.5\n",
       "\\item 8.6\n",
       "\\item 8\n",
       "\\item 8.6\n",
       "\\item 12\n",
       "\\item 7.4\n",
       "\\item 7.4\n",
       "\\item 7.4\n",
       "\\item 9.2\n",
       "\\item 6.9\n",
       "\\item 13.8\n",
       "\\item 7.4\n",
       "\\item 6.9\n",
       "\\item 7.4\n",
       "\\item 4.6\n",
       "\\item 4\n",
       "\\item 10.3\n",
       "\\item 8\n",
       "\\item 8.6\n",
       "\\item 11.5\n",
       "\\item 11.5\n",
       "\\item 11.5\n",
       "\\item 9.7\n",
       "\\item 11.5\n",
       "\\item 10.3\n",
       "\\item 6.3\n",
       "\\item 7.4\n",
       "\\item 10.9\n",
       "\\item 10.3\n",
       "\\item 15.5\n",
       "\\item 14.3\n",
       "\\item 12.6\n",
       "\\item 9.7\n",
       "\\item 3.4\n",
       "\\item 8\n",
       "\\item 5.7\n",
       "\\item 9.7\n",
       "\\item 2.3\n",
       "\\item 6.3\n",
       "\\item 6.3\n",
       "\\item 6.9\n",
       "\\item 5.1\n",
       "\\item 2.8\n",
       "\\item 4.6\n",
       "\\item 7.4\n",
       "\\item 15.5\n",
       "\\item 10.9\n",
       "\\item 10.3\n",
       "\\item 10.9\n",
       "\\item 9.7\n",
       "\\item 14.9\n",
       "\\item 15.5\n",
       "\\item 6.3\n",
       "\\item 10.9\n",
       "\\item 11.5\n",
       "\\item 6.9\n",
       "\\item 13.8\n",
       "\\item 10.3\n",
       "\\item 10.3\n",
       "\\item 8\n",
       "\\item 12.6\n",
       "\\item 9.2\n",
       "\\item 10.3\n",
       "\\item 10.3\n",
       "\\item 16.6\n",
       "\\item 6.9\n",
       "\\item 13.2\n",
       "\\item 14.3\n",
       "\\item 8\n",
       "\\item 11.5\n",
       "\\end{enumerate*}\n"
      ],
      "text/markdown": [
       "1. 7.4\n",
       "2. 8\n",
       "3. 12.6\n",
       "4. 11.5\n",
       "5. 14.3\n",
       "6. 14.9\n",
       "7. 8.6\n",
       "8. 13.8\n",
       "9. 20.1\n",
       "10. 8.6\n",
       "11. 6.9\n",
       "12. 9.7\n",
       "13. 9.2\n",
       "14. 10.9\n",
       "15. 13.2\n",
       "16. 11.5\n",
       "17. 12\n",
       "18. 18.4\n",
       "19. 11.5\n",
       "20. 9.7\n",
       "21. 9.7\n",
       "22. 16.6\n",
       "23. 9.7\n",
       "24. 12\n",
       "25. 16.6\n",
       "26. 14.9\n",
       "27. 8\n",
       "28. 12\n",
       "29. 14.9\n",
       "30. 5.7\n",
       "31. 7.4\n",
       "32. 8.6\n",
       "33. 9.7\n",
       "34. 16.1\n",
       "35. 9.2\n",
       "36. 8.6\n",
       "37. 14.3\n",
       "38. 9.7\n",
       "39. 6.9\n",
       "40. 13.8\n",
       "41. 11.5\n",
       "42. 10.9\n",
       "43. 9.2\n",
       "44. 8\n",
       "45. 13.8\n",
       "46. 11.5\n",
       "47. 14.9\n",
       "48. 20.7\n",
       "49. 9.2\n",
       "50. 11.5\n",
       "51. 10.3\n",
       "52. 6.3\n",
       "53. 1.7\n",
       "54. 4.6\n",
       "55. 6.3\n",
       "56. 8\n",
       "57. 8\n",
       "58. 10.3\n",
       "59. 11.5\n",
       "60. 14.9\n",
       "61. 8\n",
       "62. 4.1\n",
       "63. 9.2\n",
       "64. 9.2\n",
       "65. 10.9\n",
       "66. 4.6\n",
       "67. 10.9\n",
       "68. 5.1\n",
       "69. 6.3\n",
       "70. 5.7\n",
       "71. 7.4\n",
       "72. 8.6\n",
       "73. 14.3\n",
       "74. 14.9\n",
       "75. 14.9\n",
       "76. 14.3\n",
       "77. 6.9\n",
       "78. 10.3\n",
       "79. 6.3\n",
       "80. 5.1\n",
       "81. 11.5\n",
       "82. 6.9\n",
       "83. 9.7\n",
       "84. 11.5\n",
       "85. 8.6\n",
       "86. 8\n",
       "87. 8.6\n",
       "88. 12\n",
       "89. 7.4\n",
       "90. 7.4\n",
       "91. 7.4\n",
       "92. 9.2\n",
       "93. 6.9\n",
       "94. 13.8\n",
       "95. 7.4\n",
       "96. 6.9\n",
       "97. 7.4\n",
       "98. 4.6\n",
       "99. 4\n",
       "100. 10.3\n",
       "101. 8\n",
       "102. 8.6\n",
       "103. 11.5\n",
       "104. 11.5\n",
       "105. 11.5\n",
       "106. 9.7\n",
       "107. 11.5\n",
       "108. 10.3\n",
       "109. 6.3\n",
       "110. 7.4\n",
       "111. 10.9\n",
       "112. 10.3\n",
       "113. 15.5\n",
       "114. 14.3\n",
       "115. 12.6\n",
       "116. 9.7\n",
       "117. 3.4\n",
       "118. 8\n",
       "119. 5.7\n",
       "120. 9.7\n",
       "121. 2.3\n",
       "122. 6.3\n",
       "123. 6.3\n",
       "124. 6.9\n",
       "125. 5.1\n",
       "126. 2.8\n",
       "127. 4.6\n",
       "128. 7.4\n",
       "129. 15.5\n",
       "130. 10.9\n",
       "131. 10.3\n",
       "132. 10.9\n",
       "133. 9.7\n",
       "134. 14.9\n",
       "135. 15.5\n",
       "136. 6.3\n",
       "137. 10.9\n",
       "138. 11.5\n",
       "139. 6.9\n",
       "140. 13.8\n",
       "141. 10.3\n",
       "142. 10.3\n",
       "143. 8\n",
       "144. 12.6\n",
       "145. 9.2\n",
       "146. 10.3\n",
       "147. 10.3\n",
       "148. 16.6\n",
       "149. 6.9\n",
       "150. 13.2\n",
       "151. 14.3\n",
       "152. 8\n",
       "153. 11.5\n",
       "\n",
       "\n"
      ],
      "text/plain": [
       "  [1]  7.4  8.0 12.6 11.5 14.3 14.9  8.6 13.8 20.1  8.6  6.9  9.7  9.2 10.9 13.2\n",
       " [16] 11.5 12.0 18.4 11.5  9.7  9.7 16.6  9.7 12.0 16.6 14.9  8.0 12.0 14.9  5.7\n",
       " [31]  7.4  8.6  9.7 16.1  9.2  8.6 14.3  9.7  6.9 13.8 11.5 10.9  9.2  8.0 13.8\n",
       " [46] 11.5 14.9 20.7  9.2 11.5 10.3  6.3  1.7  4.6  6.3  8.0  8.0 10.3 11.5 14.9\n",
       " [61]  8.0  4.1  9.2  9.2 10.9  4.6 10.9  5.1  6.3  5.7  7.4  8.6 14.3 14.9 14.9\n",
       " [76] 14.3  6.9 10.3  6.3  5.1 11.5  6.9  9.7 11.5  8.6  8.0  8.6 12.0  7.4  7.4\n",
       " [91]  7.4  9.2  6.9 13.8  7.4  6.9  7.4  4.6  4.0 10.3  8.0  8.6 11.5 11.5 11.5\n",
       "[106]  9.7 11.5 10.3  6.3  7.4 10.9 10.3 15.5 14.3 12.6  9.7  3.4  8.0  5.7  9.7\n",
       "[121]  2.3  6.3  6.3  6.9  5.1  2.8  4.6  7.4 15.5 10.9 10.3 10.9  9.7 14.9 15.5\n",
       "[136]  6.3 10.9 11.5  6.9 13.8 10.3 10.3  8.0 12.6  9.2 10.3 10.3 16.6  6.9 13.2\n",
       "[151] 14.3  8.0 11.5"
      ]
     },
     "metadata": {},
     "output_type": "display_data"
    }
   ],
   "source": [
    "#airquality\n",
    "airquality$Wind"
   ]
  },
  {
   "cell_type": "code",
   "execution_count": 18,
   "metadata": {},
   "outputs": [
    {
     "data": {
      "text/html": [
       "<ol class=list-inline>\n",
       "\t<li>7.4</li>\n",
       "\t<li>8</li>\n",
       "\t<li>12.6</li>\n",
       "\t<li>11.5</li>\n",
       "\t<li>14.3</li>\n",
       "\t<li>14.9</li>\n",
       "\t<li>8.6</li>\n",
       "\t<li>13.8</li>\n",
       "\t<li>20.1</li>\n",
       "\t<li>8.6</li>\n",
       "\t<li>6.9</li>\n",
       "\t<li>9.7</li>\n",
       "\t<li>9.2</li>\n",
       "\t<li>10.9</li>\n",
       "\t<li>13.2</li>\n",
       "\t<li>11.5</li>\n",
       "\t<li>12</li>\n",
       "\t<li>18.4</li>\n",
       "\t<li>11.5</li>\n",
       "\t<li>9.7</li>\n",
       "\t<li>9.7</li>\n",
       "\t<li>16.6</li>\n",
       "\t<li>9.7</li>\n",
       "\t<li>12</li>\n",
       "\t<li>16.6</li>\n",
       "\t<li>14.9</li>\n",
       "\t<li>8</li>\n",
       "\t<li>12</li>\n",
       "\t<li>14.9</li>\n",
       "\t<li>5.7</li>\n",
       "\t<li>7.4</li>\n",
       "\t<li>8.6</li>\n",
       "\t<li>9.7</li>\n",
       "\t<li>16.1</li>\n",
       "\t<li>9.2</li>\n",
       "\t<li>8.6</li>\n",
       "\t<li>14.3</li>\n",
       "\t<li>9.7</li>\n",
       "\t<li>6.9</li>\n",
       "\t<li>13.8</li>\n",
       "\t<li>11.5</li>\n",
       "\t<li>10.9</li>\n",
       "\t<li>9.2</li>\n",
       "\t<li>8</li>\n",
       "\t<li>13.8</li>\n",
       "\t<li>11.5</li>\n",
       "\t<li>14.9</li>\n",
       "\t<li>20.7</li>\n",
       "\t<li>9.2</li>\n",
       "\t<li>11.5</li>\n",
       "\t<li>10.3</li>\n",
       "\t<li>6.3</li>\n",
       "\t<li>1.7</li>\n",
       "\t<li>4.6</li>\n",
       "\t<li>6.3</li>\n",
       "\t<li>8</li>\n",
       "\t<li>8</li>\n",
       "\t<li>10.3</li>\n",
       "\t<li>11.5</li>\n",
       "\t<li>14.9</li>\n",
       "\t<li>8</li>\n",
       "\t<li>4.1</li>\n",
       "\t<li>9.2</li>\n",
       "\t<li>9.2</li>\n",
       "\t<li>10.9</li>\n",
       "\t<li>4.6</li>\n",
       "\t<li>10.9</li>\n",
       "\t<li>5.1</li>\n",
       "\t<li>6.3</li>\n",
       "\t<li>5.7</li>\n",
       "\t<li>7.4</li>\n",
       "\t<li>8.6</li>\n",
       "\t<li>14.3</li>\n",
       "\t<li>14.9</li>\n",
       "\t<li>14.9</li>\n",
       "\t<li>14.3</li>\n",
       "\t<li>6.9</li>\n",
       "\t<li>10.3</li>\n",
       "\t<li>6.3</li>\n",
       "\t<li>5.1</li>\n",
       "\t<li>11.5</li>\n",
       "\t<li>6.9</li>\n",
       "\t<li>9.7</li>\n",
       "\t<li>11.5</li>\n",
       "\t<li>8.6</li>\n",
       "\t<li>8</li>\n",
       "\t<li>8.6</li>\n",
       "\t<li>12</li>\n",
       "\t<li>7.4</li>\n",
       "\t<li>7.4</li>\n",
       "\t<li>7.4</li>\n",
       "\t<li>9.2</li>\n",
       "\t<li>6.9</li>\n",
       "\t<li>13.8</li>\n",
       "\t<li>7.4</li>\n",
       "\t<li>6.9</li>\n",
       "\t<li>7.4</li>\n",
       "\t<li>4.6</li>\n",
       "\t<li>4</li>\n",
       "\t<li>10.3</li>\n",
       "\t<li>8</li>\n",
       "\t<li>8.6</li>\n",
       "\t<li>11.5</li>\n",
       "\t<li>11.5</li>\n",
       "\t<li>11.5</li>\n",
       "\t<li>9.7</li>\n",
       "\t<li>11.5</li>\n",
       "\t<li>10.3</li>\n",
       "\t<li>6.3</li>\n",
       "\t<li>7.4</li>\n",
       "\t<li>10.9</li>\n",
       "\t<li>10.3</li>\n",
       "\t<li>15.5</li>\n",
       "\t<li>14.3</li>\n",
       "\t<li>12.6</li>\n",
       "\t<li>9.7</li>\n",
       "\t<li>3.4</li>\n",
       "\t<li>8</li>\n",
       "\t<li>5.7</li>\n",
       "\t<li>9.7</li>\n",
       "\t<li>2.3</li>\n",
       "\t<li>6.3</li>\n",
       "\t<li>6.3</li>\n",
       "\t<li>6.9</li>\n",
       "\t<li>5.1</li>\n",
       "\t<li>2.8</li>\n",
       "\t<li>4.6</li>\n",
       "\t<li>7.4</li>\n",
       "\t<li>15.5</li>\n",
       "\t<li>10.9</li>\n",
       "\t<li>10.3</li>\n",
       "\t<li>10.9</li>\n",
       "\t<li>9.7</li>\n",
       "\t<li>14.9</li>\n",
       "\t<li>15.5</li>\n",
       "\t<li>6.3</li>\n",
       "\t<li>10.9</li>\n",
       "\t<li>11.5</li>\n",
       "\t<li>6.9</li>\n",
       "\t<li>13.8</li>\n",
       "\t<li>10.3</li>\n",
       "\t<li>10.3</li>\n",
       "\t<li>8</li>\n",
       "\t<li>12.6</li>\n",
       "\t<li>9.2</li>\n",
       "\t<li>10.3</li>\n",
       "\t<li>10.3</li>\n",
       "\t<li>16.6</li>\n",
       "\t<li>6.9</li>\n",
       "\t<li>13.2</li>\n",
       "\t<li>14.3</li>\n",
       "\t<li>8</li>\n",
       "\t<li>11.5</li>\n",
       "</ol>\n"
      ],
      "text/latex": [
       "\\begin{enumerate*}\n",
       "\\item 7.4\n",
       "\\item 8\n",
       "\\item 12.6\n",
       "\\item 11.5\n",
       "\\item 14.3\n",
       "\\item 14.9\n",
       "\\item 8.6\n",
       "\\item 13.8\n",
       "\\item 20.1\n",
       "\\item 8.6\n",
       "\\item 6.9\n",
       "\\item 9.7\n",
       "\\item 9.2\n",
       "\\item 10.9\n",
       "\\item 13.2\n",
       "\\item 11.5\n",
       "\\item 12\n",
       "\\item 18.4\n",
       "\\item 11.5\n",
       "\\item 9.7\n",
       "\\item 9.7\n",
       "\\item 16.6\n",
       "\\item 9.7\n",
       "\\item 12\n",
       "\\item 16.6\n",
       "\\item 14.9\n",
       "\\item 8\n",
       "\\item 12\n",
       "\\item 14.9\n",
       "\\item 5.7\n",
       "\\item 7.4\n",
       "\\item 8.6\n",
       "\\item 9.7\n",
       "\\item 16.1\n",
       "\\item 9.2\n",
       "\\item 8.6\n",
       "\\item 14.3\n",
       "\\item 9.7\n",
       "\\item 6.9\n",
       "\\item 13.8\n",
       "\\item 11.5\n",
       "\\item 10.9\n",
       "\\item 9.2\n",
       "\\item 8\n",
       "\\item 13.8\n",
       "\\item 11.5\n",
       "\\item 14.9\n",
       "\\item 20.7\n",
       "\\item 9.2\n",
       "\\item 11.5\n",
       "\\item 10.3\n",
       "\\item 6.3\n",
       "\\item 1.7\n",
       "\\item 4.6\n",
       "\\item 6.3\n",
       "\\item 8\n",
       "\\item 8\n",
       "\\item 10.3\n",
       "\\item 11.5\n",
       "\\item 14.9\n",
       "\\item 8\n",
       "\\item 4.1\n",
       "\\item 9.2\n",
       "\\item 9.2\n",
       "\\item 10.9\n",
       "\\item 4.6\n",
       "\\item 10.9\n",
       "\\item 5.1\n",
       "\\item 6.3\n",
       "\\item 5.7\n",
       "\\item 7.4\n",
       "\\item 8.6\n",
       "\\item 14.3\n",
       "\\item 14.9\n",
       "\\item 14.9\n",
       "\\item 14.3\n",
       "\\item 6.9\n",
       "\\item 10.3\n",
       "\\item 6.3\n",
       "\\item 5.1\n",
       "\\item 11.5\n",
       "\\item 6.9\n",
       "\\item 9.7\n",
       "\\item 11.5\n",
       "\\item 8.6\n",
       "\\item 8\n",
       "\\item 8.6\n",
       "\\item 12\n",
       "\\item 7.4\n",
       "\\item 7.4\n",
       "\\item 7.4\n",
       "\\item 9.2\n",
       "\\item 6.9\n",
       "\\item 13.8\n",
       "\\item 7.4\n",
       "\\item 6.9\n",
       "\\item 7.4\n",
       "\\item 4.6\n",
       "\\item 4\n",
       "\\item 10.3\n",
       "\\item 8\n",
       "\\item 8.6\n",
       "\\item 11.5\n",
       "\\item 11.5\n",
       "\\item 11.5\n",
       "\\item 9.7\n",
       "\\item 11.5\n",
       "\\item 10.3\n",
       "\\item 6.3\n",
       "\\item 7.4\n",
       "\\item 10.9\n",
       "\\item 10.3\n",
       "\\item 15.5\n",
       "\\item 14.3\n",
       "\\item 12.6\n",
       "\\item 9.7\n",
       "\\item 3.4\n",
       "\\item 8\n",
       "\\item 5.7\n",
       "\\item 9.7\n",
       "\\item 2.3\n",
       "\\item 6.3\n",
       "\\item 6.3\n",
       "\\item 6.9\n",
       "\\item 5.1\n",
       "\\item 2.8\n",
       "\\item 4.6\n",
       "\\item 7.4\n",
       "\\item 15.5\n",
       "\\item 10.9\n",
       "\\item 10.3\n",
       "\\item 10.9\n",
       "\\item 9.7\n",
       "\\item 14.9\n",
       "\\item 15.5\n",
       "\\item 6.3\n",
       "\\item 10.9\n",
       "\\item 11.5\n",
       "\\item 6.9\n",
       "\\item 13.8\n",
       "\\item 10.3\n",
       "\\item 10.3\n",
       "\\item 8\n",
       "\\item 12.6\n",
       "\\item 9.2\n",
       "\\item 10.3\n",
       "\\item 10.3\n",
       "\\item 16.6\n",
       "\\item 6.9\n",
       "\\item 13.2\n",
       "\\item 14.3\n",
       "\\item 8\n",
       "\\item 11.5\n",
       "\\end{enumerate*}\n"
      ],
      "text/markdown": [
       "1. 7.4\n",
       "2. 8\n",
       "3. 12.6\n",
       "4. 11.5\n",
       "5. 14.3\n",
       "6. 14.9\n",
       "7. 8.6\n",
       "8. 13.8\n",
       "9. 20.1\n",
       "10. 8.6\n",
       "11. 6.9\n",
       "12. 9.7\n",
       "13. 9.2\n",
       "14. 10.9\n",
       "15. 13.2\n",
       "16. 11.5\n",
       "17. 12\n",
       "18. 18.4\n",
       "19. 11.5\n",
       "20. 9.7\n",
       "21. 9.7\n",
       "22. 16.6\n",
       "23. 9.7\n",
       "24. 12\n",
       "25. 16.6\n",
       "26. 14.9\n",
       "27. 8\n",
       "28. 12\n",
       "29. 14.9\n",
       "30. 5.7\n",
       "31. 7.4\n",
       "32. 8.6\n",
       "33. 9.7\n",
       "34. 16.1\n",
       "35. 9.2\n",
       "36. 8.6\n",
       "37. 14.3\n",
       "38. 9.7\n",
       "39. 6.9\n",
       "40. 13.8\n",
       "41. 11.5\n",
       "42. 10.9\n",
       "43. 9.2\n",
       "44. 8\n",
       "45. 13.8\n",
       "46. 11.5\n",
       "47. 14.9\n",
       "48. 20.7\n",
       "49. 9.2\n",
       "50. 11.5\n",
       "51. 10.3\n",
       "52. 6.3\n",
       "53. 1.7\n",
       "54. 4.6\n",
       "55. 6.3\n",
       "56. 8\n",
       "57. 8\n",
       "58. 10.3\n",
       "59. 11.5\n",
       "60. 14.9\n",
       "61. 8\n",
       "62. 4.1\n",
       "63. 9.2\n",
       "64. 9.2\n",
       "65. 10.9\n",
       "66. 4.6\n",
       "67. 10.9\n",
       "68. 5.1\n",
       "69. 6.3\n",
       "70. 5.7\n",
       "71. 7.4\n",
       "72. 8.6\n",
       "73. 14.3\n",
       "74. 14.9\n",
       "75. 14.9\n",
       "76. 14.3\n",
       "77. 6.9\n",
       "78. 10.3\n",
       "79. 6.3\n",
       "80. 5.1\n",
       "81. 11.5\n",
       "82. 6.9\n",
       "83. 9.7\n",
       "84. 11.5\n",
       "85. 8.6\n",
       "86. 8\n",
       "87. 8.6\n",
       "88. 12\n",
       "89. 7.4\n",
       "90. 7.4\n",
       "91. 7.4\n",
       "92. 9.2\n",
       "93. 6.9\n",
       "94. 13.8\n",
       "95. 7.4\n",
       "96. 6.9\n",
       "97. 7.4\n",
       "98. 4.6\n",
       "99. 4\n",
       "100. 10.3\n",
       "101. 8\n",
       "102. 8.6\n",
       "103. 11.5\n",
       "104. 11.5\n",
       "105. 11.5\n",
       "106. 9.7\n",
       "107. 11.5\n",
       "108. 10.3\n",
       "109. 6.3\n",
       "110. 7.4\n",
       "111. 10.9\n",
       "112. 10.3\n",
       "113. 15.5\n",
       "114. 14.3\n",
       "115. 12.6\n",
       "116. 9.7\n",
       "117. 3.4\n",
       "118. 8\n",
       "119. 5.7\n",
       "120. 9.7\n",
       "121. 2.3\n",
       "122. 6.3\n",
       "123. 6.3\n",
       "124. 6.9\n",
       "125. 5.1\n",
       "126. 2.8\n",
       "127. 4.6\n",
       "128. 7.4\n",
       "129. 15.5\n",
       "130. 10.9\n",
       "131. 10.3\n",
       "132. 10.9\n",
       "133. 9.7\n",
       "134. 14.9\n",
       "135. 15.5\n",
       "136. 6.3\n",
       "137. 10.9\n",
       "138. 11.5\n",
       "139. 6.9\n",
       "140. 13.8\n",
       "141. 10.3\n",
       "142. 10.3\n",
       "143. 8\n",
       "144. 12.6\n",
       "145. 9.2\n",
       "146. 10.3\n",
       "147. 10.3\n",
       "148. 16.6\n",
       "149. 6.9\n",
       "150. 13.2\n",
       "151. 14.3\n",
       "152. 8\n",
       "153. 11.5\n",
       "\n",
       "\n"
      ],
      "text/plain": [
       "  [1]  7.4  8.0 12.6 11.5 14.3 14.9  8.6 13.8 20.1  8.6  6.9  9.7  9.2 10.9 13.2\n",
       " [16] 11.5 12.0 18.4 11.5  9.7  9.7 16.6  9.7 12.0 16.6 14.9  8.0 12.0 14.9  5.7\n",
       " [31]  7.4  8.6  9.7 16.1  9.2  8.6 14.3  9.7  6.9 13.8 11.5 10.9  9.2  8.0 13.8\n",
       " [46] 11.5 14.9 20.7  9.2 11.5 10.3  6.3  1.7  4.6  6.3  8.0  8.0 10.3 11.5 14.9\n",
       " [61]  8.0  4.1  9.2  9.2 10.9  4.6 10.9  5.1  6.3  5.7  7.4  8.6 14.3 14.9 14.9\n",
       " [76] 14.3  6.9 10.3  6.3  5.1 11.5  6.9  9.7 11.5  8.6  8.0  8.6 12.0  7.4  7.4\n",
       " [91]  7.4  9.2  6.9 13.8  7.4  6.9  7.4  4.6  4.0 10.3  8.0  8.6 11.5 11.5 11.5\n",
       "[106]  9.7 11.5 10.3  6.3  7.4 10.9 10.3 15.5 14.3 12.6  9.7  3.4  8.0  5.7  9.7\n",
       "[121]  2.3  6.3  6.3  6.9  5.1  2.8  4.6  7.4 15.5 10.9 10.3 10.9  9.7 14.9 15.5\n",
       "[136]  6.3 10.9 11.5  6.9 13.8 10.3 10.3  8.0 12.6  9.2 10.3 10.3 16.6  6.9 13.2\n",
       "[151] 14.3  8.0 11.5"
      ]
     },
     "metadata": {},
     "output_type": "display_data"
    },
    {
     "data": {
      "text/html": [
       "77.8823529411765"
      ],
      "text/latex": [
       "77.8823529411765"
      ],
      "text/markdown": [
       "77.8823529411765"
      ],
      "text/plain": [
       "[1] 77.88235"
      ]
     },
     "metadata": {},
     "output_type": "display_data"
    },
    {
     "data": {
      "text/plain": [
       "[1] NA"
      ]
     },
     "metadata": {},
     "output_type": "display_data"
    },
    {
     "data": {
      "text/html": [
       "<ol class=list-inline>\n",
       "\t<li>41</li>\n",
       "\t<li>36</li>\n",
       "\t<li>12</li>\n",
       "\t<li>18</li>\n",
       "\t<li>NA</li>\n",
       "\t<li>28</li>\n",
       "\t<li>23</li>\n",
       "\t<li>19</li>\n",
       "\t<li>8</li>\n",
       "\t<li>NA</li>\n",
       "\t<li>7</li>\n",
       "\t<li>16</li>\n",
       "\t<li>11</li>\n",
       "\t<li>14</li>\n",
       "\t<li>18</li>\n",
       "\t<li>14</li>\n",
       "\t<li>34</li>\n",
       "\t<li>6</li>\n",
       "\t<li>30</li>\n",
       "\t<li>11</li>\n",
       "\t<li>1</li>\n",
       "\t<li>11</li>\n",
       "\t<li>4</li>\n",
       "\t<li>32</li>\n",
       "\t<li>NA</li>\n",
       "\t<li>NA</li>\n",
       "\t<li>NA</li>\n",
       "\t<li>23</li>\n",
       "\t<li>45</li>\n",
       "\t<li>115</li>\n",
       "\t<li>37</li>\n",
       "\t<li>NA</li>\n",
       "\t<li>NA</li>\n",
       "\t<li>NA</li>\n",
       "\t<li>NA</li>\n",
       "\t<li>NA</li>\n",
       "\t<li>NA</li>\n",
       "\t<li>29</li>\n",
       "\t<li>NA</li>\n",
       "\t<li>71</li>\n",
       "\t<li>39</li>\n",
       "\t<li>NA</li>\n",
       "\t<li>NA</li>\n",
       "\t<li>23</li>\n",
       "\t<li>NA</li>\n",
       "\t<li>NA</li>\n",
       "\t<li>21</li>\n",
       "\t<li>37</li>\n",
       "\t<li>20</li>\n",
       "\t<li>12</li>\n",
       "\t<li>13</li>\n",
       "\t<li>NA</li>\n",
       "\t<li>NA</li>\n",
       "\t<li>NA</li>\n",
       "\t<li>NA</li>\n",
       "\t<li>NA</li>\n",
       "\t<li>NA</li>\n",
       "\t<li>NA</li>\n",
       "\t<li>NA</li>\n",
       "\t<li>NA</li>\n",
       "\t<li>NA</li>\n",
       "\t<li>135</li>\n",
       "\t<li>49</li>\n",
       "\t<li>32</li>\n",
       "\t<li>NA</li>\n",
       "\t<li>64</li>\n",
       "\t<li>40</li>\n",
       "\t<li>77</li>\n",
       "\t<li>97</li>\n",
       "\t<li>97</li>\n",
       "\t<li>85</li>\n",
       "\t<li>NA</li>\n",
       "\t<li>10</li>\n",
       "\t<li>27</li>\n",
       "\t<li>NA</li>\n",
       "\t<li>7</li>\n",
       "\t<li>48</li>\n",
       "\t<li>35</li>\n",
       "\t<li>61</li>\n",
       "\t<li>79</li>\n",
       "\t<li>63</li>\n",
       "\t<li>16</li>\n",
       "\t<li>NA</li>\n",
       "\t<li>NA</li>\n",
       "\t<li>80</li>\n",
       "\t<li>108</li>\n",
       "\t<li>20</li>\n",
       "\t<li>52</li>\n",
       "\t<li>82</li>\n",
       "\t<li>50</li>\n",
       "\t<li>64</li>\n",
       "\t<li>59</li>\n",
       "\t<li>39</li>\n",
       "\t<li>9</li>\n",
       "\t<li>16</li>\n",
       "\t<li>78</li>\n",
       "\t<li>35</li>\n",
       "\t<li>66</li>\n",
       "\t<li>122</li>\n",
       "\t<li>89</li>\n",
       "\t<li>110</li>\n",
       "\t<li>NA</li>\n",
       "\t<li>NA</li>\n",
       "\t<li>44</li>\n",
       "\t<li>28</li>\n",
       "\t<li>65</li>\n",
       "\t<li>NA</li>\n",
       "\t<li>22</li>\n",
       "\t<li>59</li>\n",
       "\t<li>23</li>\n",
       "\t<li>31</li>\n",
       "\t<li>44</li>\n",
       "\t<li>21</li>\n",
       "\t<li>9</li>\n",
       "\t<li>NA</li>\n",
       "\t<li>45</li>\n",
       "\t<li>168</li>\n",
       "\t<li>73</li>\n",
       "\t<li>NA</li>\n",
       "\t<li>76</li>\n",
       "\t<li>118</li>\n",
       "\t<li>84</li>\n",
       "\t<li>85</li>\n",
       "\t<li>96</li>\n",
       "\t<li>78</li>\n",
       "\t<li>73</li>\n",
       "\t<li>91</li>\n",
       "\t<li>47</li>\n",
       "\t<li>32</li>\n",
       "\t<li>20</li>\n",
       "\t<li>23</li>\n",
       "\t<li>21</li>\n",
       "\t<li>24</li>\n",
       "\t<li>44</li>\n",
       "\t<li>21</li>\n",
       "\t<li>28</li>\n",
       "\t<li>9</li>\n",
       "\t<li>13</li>\n",
       "\t<li>46</li>\n",
       "\t<li>18</li>\n",
       "\t<li>13</li>\n",
       "\t<li>24</li>\n",
       "\t<li>16</li>\n",
       "\t<li>13</li>\n",
       "\t<li>23</li>\n",
       "\t<li>36</li>\n",
       "\t<li>7</li>\n",
       "\t<li>14</li>\n",
       "\t<li>30</li>\n",
       "\t<li>NA</li>\n",
       "\t<li>14</li>\n",
       "\t<li>18</li>\n",
       "\t<li>20</li>\n",
       "</ol>\n"
      ],
      "text/latex": [
       "\\begin{enumerate*}\n",
       "\\item 41\n",
       "\\item 36\n",
       "\\item 12\n",
       "\\item 18\n",
       "\\item NA\n",
       "\\item 28\n",
       "\\item 23\n",
       "\\item 19\n",
       "\\item 8\n",
       "\\item NA\n",
       "\\item 7\n",
       "\\item 16\n",
       "\\item 11\n",
       "\\item 14\n",
       "\\item 18\n",
       "\\item 14\n",
       "\\item 34\n",
       "\\item 6\n",
       "\\item 30\n",
       "\\item 11\n",
       "\\item 1\n",
       "\\item 11\n",
       "\\item 4\n",
       "\\item 32\n",
       "\\item NA\n",
       "\\item NA\n",
       "\\item NA\n",
       "\\item 23\n",
       "\\item 45\n",
       "\\item 115\n",
       "\\item 37\n",
       "\\item NA\n",
       "\\item NA\n",
       "\\item NA\n",
       "\\item NA\n",
       "\\item NA\n",
       "\\item NA\n",
       "\\item 29\n",
       "\\item NA\n",
       "\\item 71\n",
       "\\item 39\n",
       "\\item NA\n",
       "\\item NA\n",
       "\\item 23\n",
       "\\item NA\n",
       "\\item NA\n",
       "\\item 21\n",
       "\\item 37\n",
       "\\item 20\n",
       "\\item 12\n",
       "\\item 13\n",
       "\\item NA\n",
       "\\item NA\n",
       "\\item NA\n",
       "\\item NA\n",
       "\\item NA\n",
       "\\item NA\n",
       "\\item NA\n",
       "\\item NA\n",
       "\\item NA\n",
       "\\item NA\n",
       "\\item 135\n",
       "\\item 49\n",
       "\\item 32\n",
       "\\item NA\n",
       "\\item 64\n",
       "\\item 40\n",
       "\\item 77\n",
       "\\item 97\n",
       "\\item 97\n",
       "\\item 85\n",
       "\\item NA\n",
       "\\item 10\n",
       "\\item 27\n",
       "\\item NA\n",
       "\\item 7\n",
       "\\item 48\n",
       "\\item 35\n",
       "\\item 61\n",
       "\\item 79\n",
       "\\item 63\n",
       "\\item 16\n",
       "\\item NA\n",
       "\\item NA\n",
       "\\item 80\n",
       "\\item 108\n",
       "\\item 20\n",
       "\\item 52\n",
       "\\item 82\n",
       "\\item 50\n",
       "\\item 64\n",
       "\\item 59\n",
       "\\item 39\n",
       "\\item 9\n",
       "\\item 16\n",
       "\\item 78\n",
       "\\item 35\n",
       "\\item 66\n",
       "\\item 122\n",
       "\\item 89\n",
       "\\item 110\n",
       "\\item NA\n",
       "\\item NA\n",
       "\\item 44\n",
       "\\item 28\n",
       "\\item 65\n",
       "\\item NA\n",
       "\\item 22\n",
       "\\item 59\n",
       "\\item 23\n",
       "\\item 31\n",
       "\\item 44\n",
       "\\item 21\n",
       "\\item 9\n",
       "\\item NA\n",
       "\\item 45\n",
       "\\item 168\n",
       "\\item 73\n",
       "\\item NA\n",
       "\\item 76\n",
       "\\item 118\n",
       "\\item 84\n",
       "\\item 85\n",
       "\\item 96\n",
       "\\item 78\n",
       "\\item 73\n",
       "\\item 91\n",
       "\\item 47\n",
       "\\item 32\n",
       "\\item 20\n",
       "\\item 23\n",
       "\\item 21\n",
       "\\item 24\n",
       "\\item 44\n",
       "\\item 21\n",
       "\\item 28\n",
       "\\item 9\n",
       "\\item 13\n",
       "\\item 46\n",
       "\\item 18\n",
       "\\item 13\n",
       "\\item 24\n",
       "\\item 16\n",
       "\\item 13\n",
       "\\item 23\n",
       "\\item 36\n",
       "\\item 7\n",
       "\\item 14\n",
       "\\item 30\n",
       "\\item NA\n",
       "\\item 14\n",
       "\\item 18\n",
       "\\item 20\n",
       "\\end{enumerate*}\n"
      ],
      "text/markdown": [
       "1. 41\n",
       "2. 36\n",
       "3. 12\n",
       "4. 18\n",
       "5. NA\n",
       "6. 28\n",
       "7. 23\n",
       "8. 19\n",
       "9. 8\n",
       "10. NA\n",
       "11. 7\n",
       "12. 16\n",
       "13. 11\n",
       "14. 14\n",
       "15. 18\n",
       "16. 14\n",
       "17. 34\n",
       "18. 6\n",
       "19. 30\n",
       "20. 11\n",
       "21. 1\n",
       "22. 11\n",
       "23. 4\n",
       "24. 32\n",
       "25. NA\n",
       "26. NA\n",
       "27. NA\n",
       "28. 23\n",
       "29. 45\n",
       "30. 115\n",
       "31. 37\n",
       "32. NA\n",
       "33. NA\n",
       "34. NA\n",
       "35. NA\n",
       "36. NA\n",
       "37. NA\n",
       "38. 29\n",
       "39. NA\n",
       "40. 71\n",
       "41. 39\n",
       "42. NA\n",
       "43. NA\n",
       "44. 23\n",
       "45. NA\n",
       "46. NA\n",
       "47. 21\n",
       "48. 37\n",
       "49. 20\n",
       "50. 12\n",
       "51. 13\n",
       "52. NA\n",
       "53. NA\n",
       "54. NA\n",
       "55. NA\n",
       "56. NA\n",
       "57. NA\n",
       "58. NA\n",
       "59. NA\n",
       "60. NA\n",
       "61. NA\n",
       "62. 135\n",
       "63. 49\n",
       "64. 32\n",
       "65. NA\n",
       "66. 64\n",
       "67. 40\n",
       "68. 77\n",
       "69. 97\n",
       "70. 97\n",
       "71. 85\n",
       "72. NA\n",
       "73. 10\n",
       "74. 27\n",
       "75. NA\n",
       "76. 7\n",
       "77. 48\n",
       "78. 35\n",
       "79. 61\n",
       "80. 79\n",
       "81. 63\n",
       "82. 16\n",
       "83. NA\n",
       "84. NA\n",
       "85. 80\n",
       "86. 108\n",
       "87. 20\n",
       "88. 52\n",
       "89. 82\n",
       "90. 50\n",
       "91. 64\n",
       "92. 59\n",
       "93. 39\n",
       "94. 9\n",
       "95. 16\n",
       "96. 78\n",
       "97. 35\n",
       "98. 66\n",
       "99. 122\n",
       "100. 89\n",
       "101. 110\n",
       "102. NA\n",
       "103. NA\n",
       "104. 44\n",
       "105. 28\n",
       "106. 65\n",
       "107. NA\n",
       "108. 22\n",
       "109. 59\n",
       "110. 23\n",
       "111. 31\n",
       "112. 44\n",
       "113. 21\n",
       "114. 9\n",
       "115. NA\n",
       "116. 45\n",
       "117. 168\n",
       "118. 73\n",
       "119. NA\n",
       "120. 76\n",
       "121. 118\n",
       "122. 84\n",
       "123. 85\n",
       "124. 96\n",
       "125. 78\n",
       "126. 73\n",
       "127. 91\n",
       "128. 47\n",
       "129. 32\n",
       "130. 20\n",
       "131. 23\n",
       "132. 21\n",
       "133. 24\n",
       "134. 44\n",
       "135. 21\n",
       "136. 28\n",
       "137. 9\n",
       "138. 13\n",
       "139. 46\n",
       "140. 18\n",
       "141. 13\n",
       "142. 24\n",
       "143. 16\n",
       "144. 13\n",
       "145. 23\n",
       "146. 36\n",
       "147. 7\n",
       "148. 14\n",
       "149. 30\n",
       "150. NA\n",
       "151. 14\n",
       "152. 18\n",
       "153. 20\n",
       "\n",
       "\n"
      ],
      "text/plain": [
       "  [1]  41  36  12  18  NA  28  23  19   8  NA   7  16  11  14  18  14  34   6\n",
       " [19]  30  11   1  11   4  32  NA  NA  NA  23  45 115  37  NA  NA  NA  NA  NA\n",
       " [37]  NA  29  NA  71  39  NA  NA  23  NA  NA  21  37  20  12  13  NA  NA  NA\n",
       " [55]  NA  NA  NA  NA  NA  NA  NA 135  49  32  NA  64  40  77  97  97  85  NA\n",
       " [73]  10  27  NA   7  48  35  61  79  63  16  NA  NA  80 108  20  52  82  50\n",
       " [91]  64  59  39   9  16  78  35  66 122  89 110  NA  NA  44  28  65  NA  22\n",
       "[109]  59  23  31  44  21   9  NA  45 168  73  NA  76 118  84  85  96  78  73\n",
       "[127]  91  47  32  20  23  21  24  44  21  28   9  13  46  18  13  24  16  13\n",
       "[145]  23  36   7  14  30  NA  14  18  20"
      ]
     },
     "metadata": {},
     "output_type": "display_data"
    },
    {
     "data": {
      "text/html": [
       "42.1293103448276"
      ],
      "text/latex": [
       "42.1293103448276"
      ],
      "text/markdown": [
       "42.1293103448276"
      ],
      "text/plain": [
       "[1] 42.12931"
      ]
     },
     "metadata": {},
     "output_type": "display_data"
    }
   ],
   "source": [
    "#airquality\n",
    "airquality$Wind\n",
    "mean(airquality$Temp) # média das temperaturas no período\n",
    "mean(airquality$Ozone) # média do Ozone no período - note a resposta NA\n",
    "airquality$Ozone # a razão é que existem ‘‘dados perdidos’’ na variável Ozone\n",
    "mean(airquality$Ozone, na.rm=T) # média do Ozone no período - retirando valores perdido"
   ]
  },
  {
   "cell_type": "markdown",
   "metadata": {
    "collapsed": true,
    "scrolled": true
   },
   "source": [
    " ### 2.2 Ler e Escrever de arquivo (txt, csv, etc)\n",
    " - read.table(\"nome_do_arquivo.csv\", head=T, sep=\":\", dec=\",\")\n",
    " - read.csv(\"nome_do_arquivo.csv\")\n",
    " - read.csv2(\"nome_do_arquivo.csv\") \n",
    " - write.table(nome_do_dado, file = \"nome_do_arquivo.txt\")\n",
    " - write.csv2(nome_do_data_frame, file = \"nome_do_arquivo.csv\", row.names = FALSE) "
   ]
  },
  {
   "cell_type": "code",
   "execution_count": 7,
   "metadata": {},
   "outputs": [
    {
     "name": "stdout",
     "output_type": "stream",
     "text": [
      "'data.frame':\t4842 obs. of  11 variables:\n",
      " $ X                 : int  0 1 2 3 4 5 6 7 8 9 ...\n",
      " $ a_ID              : int  0 0 1 2 3 3 4 4 5 6 ...\n",
      " $ CEP               : int  59015430 59015430 59073120 59072580 59088150 59088150 59064245 59064245 59112430 59152780 ...\n",
      " $ ano_ingresso      : int  2014 2014 2014 2014 2014 2014 2014 2014 2014 2014 ...\n",
      " $ periodo_ingresso  : int  1 1 1 1 1 1 1 1 1 1 ...\n",
      " $ status            : Factor w/ 6 levels \"ATIVO\",\"CANCELADO\",..: 2 2 2 1 1 1 2 2 1 2 ...\n",
      " $ ano_disciplina    : int  2014 2015 2014 2014 2014 2014 2014 2015 2014 2014 ...\n",
      " $ periodo_disciplina: int  2 1 2 2 1 2 2 1 2 2 ...\n",
      " $ nota              : num  2.6 8 0.1 6.1 3 7.2 2.1 2.3 8.9 2.4 ...\n",
      " $ disciplina_ID     : int  0 0 0 0 0 0 0 0 0 0 ...\n",
      " $ status.disciplina : Factor w/ 2 levels \"Aprovado\",\"Reprovado\": 2 1 2 1 2 1 2 2 1 2 ...\n"
     ]
    }
   ],
   "source": [
    "# Exemplo de leitura de dados - padrão CSV, Sep=\";\" \n",
    "alunos_IMD <- read.csv2(\"imd_student_blind.csv\")\n",
    "str(alunos_IMD)"
   ]
  },
  {
   "cell_type": "code",
   "execution_count": 29,
   "metadata": {},
   "outputs": [
    {
     "data": {
      "text/html": [
       "<ol class=list-inline>\n",
       "\t<li>2014</li>\n",
       "\t<li>2015</li>\n",
       "\t<li>2016</li>\n",
       "</ol>\n"
      ],
      "text/latex": [
       "\\begin{enumerate*}\n",
       "\\item 2014\n",
       "\\item 2015\n",
       "\\item 2016\n",
       "\\end{enumerate*}\n"
      ],
      "text/markdown": [
       "1. 2014\n",
       "2. 2015\n",
       "3. 2016\n",
       "\n",
       "\n"
      ],
      "text/plain": [
       "[1] 2014 2015 2016"
      ]
     },
     "metadata": {},
     "output_type": "display_data"
    }
   ],
   "source": [
    "unique(alunos_IMD$ano_ingresso)"
   ]
  },
  {
   "cell_type": "code",
   "execution_count": 30,
   "metadata": {},
   "outputs": [
    {
     "data": {
      "text/html": [
       "<ol class=list-inline>\n",
       "\t<li>CANCELADO</li>\n",
       "\t<li>ATIVO</li>\n",
       "\t<li>TRANCADO</li>\n",
       "\t<li>CONCLUIDO</li>\n",
       "\t<li>FORMANDO</li>\n",
       "\t<li>FORMADO</li>\n",
       "</ol>\n"
      ],
      "text/latex": [
       "\\begin{enumerate*}\n",
       "\\item CANCELADO\n",
       "\\item ATIVO\n",
       "\\item TRANCADO\n",
       "\\item CONCLUIDO\n",
       "\\item FORMANDO\n",
       "\\item FORMADO\n",
       "\\end{enumerate*}\n"
      ],
      "text/markdown": [
       "1. CANCELADO\n",
       "2. ATIVO\n",
       "3. TRANCADO\n",
       "4. CONCLUIDO\n",
       "5. FORMANDO\n",
       "6. FORMADO\n",
       "\n",
       "\n"
      ],
      "text/plain": [
       "[1] CANCELADO ATIVO     TRANCADO  CONCLUIDO FORMANDO  FORMADO  \n",
       "Levels: ATIVO CANCELADO CONCLUIDO FORMADO FORMANDO TRANCADO"
      ]
     },
     "metadata": {},
     "output_type": "display_data"
    }
   ],
   "source": [
    "unique(alunos_IMD$status)"
   ]
  },
  {
   "cell_type": "code",
   "execution_count": 8,
   "metadata": {},
   "outputs": [
    {
     "data": {
      "text/html": [
       "<table>\n",
       "<thead><tr><th scope=col>X</th><th scope=col>a_ID</th><th scope=col>CEP</th><th scope=col>ano_ingresso</th><th scope=col>periodo_ingresso</th><th scope=col>status</th><th scope=col>ano_disciplina</th><th scope=col>periodo_disciplina</th><th scope=col>nota</th><th scope=col>disciplina_ID</th><th scope=col>status.disciplina</th></tr></thead>\n",
       "<tbody>\n",
       "\t<tr><td>0        </td><td>0        </td><td>59015430 </td><td>2014     </td><td>1        </td><td>CANCELADO</td><td>2014     </td><td>2        </td><td>2.6      </td><td>0        </td><td>Reprovado</td></tr>\n",
       "\t<tr><td>1        </td><td>0        </td><td>59015430 </td><td>2014     </td><td>1        </td><td>CANCELADO</td><td>2015     </td><td>1        </td><td>8.0      </td><td>0        </td><td>Aprovado </td></tr>\n",
       "\t<tr><td>2        </td><td>1        </td><td>59073120 </td><td>2014     </td><td>1        </td><td>CANCELADO</td><td>2014     </td><td>2        </td><td>0.1      </td><td>0        </td><td>Reprovado</td></tr>\n",
       "\t<tr><td>3        </td><td>2        </td><td>59072580 </td><td>2014     </td><td>1        </td><td>ATIVO    </td><td>2014     </td><td>2        </td><td>6.1      </td><td>0        </td><td>Aprovado </td></tr>\n",
       "\t<tr><td>4        </td><td>3        </td><td>59088150 </td><td>2014     </td><td>1        </td><td>ATIVO    </td><td>2014     </td><td>1        </td><td>3.0      </td><td>0        </td><td>Reprovado</td></tr>\n",
       "\t<tr><td>5        </td><td>3        </td><td>59088150 </td><td>2014     </td><td>1        </td><td>ATIVO    </td><td>2014     </td><td>2        </td><td>7.2      </td><td>0        </td><td>Aprovado </td></tr>\n",
       "</tbody>\n",
       "</table>\n"
      ],
      "text/latex": [
       "\\begin{tabular}{r|lllllllllll}\n",
       " X & a\\_ID & CEP & ano\\_ingresso & periodo\\_ingresso & status & ano\\_disciplina & periodo\\_disciplina & nota & disciplina\\_ID & status.disciplina\\\\\n",
       "\\hline\n",
       "\t 0         & 0         & 59015430  & 2014      & 1         & CANCELADO & 2014      & 2         & 2.6       & 0         & Reprovado\\\\\n",
       "\t 1         & 0         & 59015430  & 2014      & 1         & CANCELADO & 2015      & 1         & 8.0       & 0         & Aprovado \\\\\n",
       "\t 2         & 1         & 59073120  & 2014      & 1         & CANCELADO & 2014      & 2         & 0.1       & 0         & Reprovado\\\\\n",
       "\t 3         & 2         & 59072580  & 2014      & 1         & ATIVO     & 2014      & 2         & 6.1       & 0         & Aprovado \\\\\n",
       "\t 4         & 3         & 59088150  & 2014      & 1         & ATIVO     & 2014      & 1         & 3.0       & 0         & Reprovado\\\\\n",
       "\t 5         & 3         & 59088150  & 2014      & 1         & ATIVO     & 2014      & 2         & 7.2       & 0         & Aprovado \\\\\n",
       "\\end{tabular}\n"
      ],
      "text/markdown": [
       "\n",
       "X | a_ID | CEP | ano_ingresso | periodo_ingresso | status | ano_disciplina | periodo_disciplina | nota | disciplina_ID | status.disciplina | \n",
       "|---|---|---|---|---|---|\n",
       "| 0         | 0         | 59015430  | 2014      | 1         | CANCELADO | 2014      | 2         | 2.6       | 0         | Reprovado | \n",
       "| 1         | 0         | 59015430  | 2014      | 1         | CANCELADO | 2015      | 1         | 8.0       | 0         | Aprovado  | \n",
       "| 2         | 1         | 59073120  | 2014      | 1         | CANCELADO | 2014      | 2         | 0.1       | 0         | Reprovado | \n",
       "| 3         | 2         | 59072580  | 2014      | 1         | ATIVO     | 2014      | 2         | 6.1       | 0         | Aprovado  | \n",
       "| 4         | 3         | 59088150  | 2014      | 1         | ATIVO     | 2014      | 1         | 3.0       | 0         | Reprovado | \n",
       "| 5         | 3         | 59088150  | 2014      | 1         | ATIVO     | 2014      | 2         | 7.2       | 0         | Aprovado  | \n",
       "\n",
       "\n"
      ],
      "text/plain": [
       "  X a_ID CEP      ano_ingresso periodo_ingresso status    ano_disciplina\n",
       "1 0 0    59015430 2014         1                CANCELADO 2014          \n",
       "2 1 0    59015430 2014         1                CANCELADO 2015          \n",
       "3 2 1    59073120 2014         1                CANCELADO 2014          \n",
       "4 3 2    59072580 2014         1                ATIVO     2014          \n",
       "5 4 3    59088150 2014         1                ATIVO     2014          \n",
       "6 5 3    59088150 2014         1                ATIVO     2014          \n",
       "  periodo_disciplina nota disciplina_ID status.disciplina\n",
       "1 2                  2.6  0             Reprovado        \n",
       "2 1                  8.0  0             Aprovado         \n",
       "3 2                  0.1  0             Reprovado        \n",
       "4 2                  6.1  0             Aprovado         \n",
       "5 1                  3.0  0             Reprovado        \n",
       "6 2                  7.2  0             Aprovado         "
      ]
     },
     "metadata": {},
     "output_type": "display_data"
    }
   ],
   "source": [
    "head(alunos_IMD)\n"
   ]
  },
  {
   "cell_type": "code",
   "execution_count": 12,
   "metadata": {},
   "outputs": [
    {
     "data": {
      "text/html": [
       "4.62924411400248"
      ],
      "text/latex": [
       "4.62924411400248"
      ],
      "text/markdown": [
       "4.62924411400248"
      ],
      "text/plain": [
       "[1] 4.629244"
      ]
     },
     "metadata": {},
     "output_type": "display_data"
    },
    {
     "data": {
      "text/html": [
       "2.95352345025668"
      ],
      "text/latex": [
       "2.95352345025668"
      ],
      "text/markdown": [
       "2.95352345025668"
      ],
      "text/plain": [
       "[1] 2.953523"
      ]
     },
     "metadata": {},
     "output_type": "display_data"
    },
    {
     "data": {
      "text/html": [
       "0"
      ],
      "text/latex": [
       "0"
      ],
      "text/markdown": [
       "0"
      ],
      "text/plain": [
       "[1] 0"
      ]
     },
     "metadata": {},
     "output_type": "display_data"
    },
    {
     "data": {
      "text/html": [
       "10"
      ],
      "text/latex": [
       "10"
      ],
      "text/markdown": [
       "10"
      ],
      "text/plain": [
       "[1] 10"
      ]
     },
     "metadata": {},
     "output_type": "display_data"
    },
    {
     "data": {
      "text/html": [
       "10"
      ],
      "text/latex": [
       "10"
      ],
      "text/markdown": [
       "10"
      ],
      "text/plain": [
       "[1] 10"
      ]
     },
     "metadata": {},
     "output_type": "display_data"
    }
   ],
   "source": [
    "# Exercício - Obter média, desvio padrão, mínimo, máximo das notas dos alunos do IMD\n",
    "mean(alunos_IMD$nota)\n",
    "???\n",
    "???\n"
   ]
  },
  {
   "cell_type": "markdown",
   "metadata": {},
   "source": [
    "### 2.3 Obtenção de subtabela\n",
    "- tabela.parametro1 <- subset(tabela, parametro==1)\n",
    "- x <- subset(tabela, parametro1 == \"A\" & parametro2 >3)\n"
   ]
  },
  {
   "cell_type": "code",
   "execution_count": 14,
   "metadata": {},
   "outputs": [
    {
     "data": {
      "text/html": [
       "TRUE"
      ],
      "text/latex": [
       "TRUE"
      ],
      "text/markdown": [
       "TRUE"
      ],
      "text/plain": [
       "[1] TRUE"
      ]
     },
     "metadata": {},
     "output_type": "display_data"
    },
    {
     "name": "stdout",
     "output_type": "stream",
     "text": [
      "[1] \"Media dos alunos ativos em 2014 \"\n"
     ]
    },
    {
     "data": {
      "text/html": [
       "5.24495848161329"
      ],
      "text/latex": [
       "5.24495848161329"
      ],
      "text/markdown": [
       "5.24495848161329"
      ],
      "text/plain": [
       "[1] 5.244958"
      ]
     },
     "metadata": {},
     "output_type": "display_data"
    },
    {
     "name": "stdout",
     "output_type": "stream",
     "text": [
      "[1] \"Media dos alunos cancelados em 2014 \"\n"
     ]
    },
    {
     "data": {
      "text/html": [
       "3.30907534246575"
      ],
      "text/latex": [
       "3.30907534246575"
      ],
      "text/markdown": [
       "3.30907534246575"
      ],
      "text/plain": [
       "[1] 3.309075"
      ]
     },
     "metadata": {},
     "output_type": "display_data"
    }
   ],
   "source": [
    "# Alunos que ingressaram em 2014\n",
    "# Com status \"Ativo\"\n",
    "# COm status \"Cancelado\"\n",
    "\n",
    "X <- subset(alunos_IMD, ano_ingresso==2014 & status==\"ATIVO\")\n",
    "y <- subset(alunos_IMD, ano_ingresso==2014 & status==\"CANCELADO\")\n",
    "\n",
    "media_x <- mean(X$nota)\n",
    "media_y <- mean(y$nota)\n",
    "\n",
    "media_x > media_y\n",
    "\n",
    "print(\"Media dos alunos ativos em 2014 \")\n",
    "media_x\n",
    "\n",
    "print(\"Media dos alunos cancelados em 2014 \")\n",
    "media_y\n"
   ]
  },
  {
   "cell_type": "code",
   "execution_count": 32,
   "metadata": {},
   "outputs": [
    {
     "data": {
      "text/html": [
       "5.24495848161329"
      ],
      "text/latex": [
       "5.24495848161329"
      ],
      "text/markdown": [
       "5.24495848161329"
      ],
      "text/plain": [
       "[1] 5.244958"
      ]
     },
     "metadata": {},
     "output_type": "display_data"
    },
    {
     "data": {
      "text/html": [
       "<table>\n",
       "<thead><tr><th></th><th scope=col>X</th><th scope=col>a_ID</th><th scope=col>CEP</th><th scope=col>ano_ingresso</th><th scope=col>periodo_ingresso</th><th scope=col>status</th><th scope=col>ano_disciplina</th><th scope=col>periodo_disciplina</th><th scope=col>nota</th><th scope=col>disciplina_ID</th><th scope=col>status.disciplina</th></tr></thead>\n",
       "<tbody>\n",
       "\t<tr><th scope=row>4</th><td> 3      </td><td> 2      </td><td>59072580</td><td>2014    </td><td>1       </td><td>ATIVO   </td><td>2014    </td><td>2       </td><td>6.1     </td><td>0       </td><td>Aprovado</td></tr>\n",
       "\t<tr><th scope=row>6</th><td> 5      </td><td> 3      </td><td>59088150</td><td>2014    </td><td>1       </td><td>ATIVO   </td><td>2014    </td><td>2       </td><td>7.2     </td><td>0       </td><td>Aprovado</td></tr>\n",
       "\t<tr><th scope=row>9</th><td> 8      </td><td> 5      </td><td>59112430</td><td>2014    </td><td>1       </td><td>ATIVO   </td><td>2014    </td><td>2       </td><td>8.9     </td><td>0       </td><td>Aprovado</td></tr>\n",
       "\t<tr><th scope=row>13</th><td>12      </td><td> 7      </td><td>59020330</td><td>2014    </td><td>1       </td><td>ATIVO   </td><td>2014    </td><td>2       </td><td>5.6     </td><td>0       </td><td>Aprovado</td></tr>\n",
       "\t<tr><th scope=row>15</th><td>14      </td><td> 8      </td><td>59151610</td><td>2014    </td><td>1       </td><td>ATIVO   </td><td>2015    </td><td>1       </td><td>6.9     </td><td>0       </td><td>Aprovado</td></tr>\n",
       "\t<tr><th scope=row>23</th><td>22      </td><td>12      </td><td>59547000</td><td>2014    </td><td>1       </td><td>ATIVO   </td><td>2015    </td><td>1       </td><td>5.9     </td><td>0       </td><td>Aprovado</td></tr>\n",
       "</tbody>\n",
       "</table>\n"
      ],
      "text/latex": [
       "\\begin{tabular}{r|lllllllllll}\n",
       "  & X & a\\_ID & CEP & ano\\_ingresso & periodo\\_ingresso & status & ano\\_disciplina & periodo\\_disciplina & nota & disciplina\\_ID & status.disciplina\\\\\n",
       "\\hline\n",
       "\t4 &  3       &  2       & 59072580 & 2014     & 1        & ATIVO    & 2014     & 2        & 6.1      & 0        & Aprovado\\\\\n",
       "\t6 &  5       &  3       & 59088150 & 2014     & 1        & ATIVO    & 2014     & 2        & 7.2      & 0        & Aprovado\\\\\n",
       "\t9 &  8       &  5       & 59112430 & 2014     & 1        & ATIVO    & 2014     & 2        & 8.9      & 0        & Aprovado\\\\\n",
       "\t13 & 12       &  7       & 59020330 & 2014     & 1        & ATIVO    & 2014     & 2        & 5.6      & 0        & Aprovado\\\\\n",
       "\t15 & 14       &  8       & 59151610 & 2014     & 1        & ATIVO    & 2015     & 1        & 6.9      & 0        & Aprovado\\\\\n",
       "\t23 & 22       & 12       & 59547000 & 2014     & 1        & ATIVO    & 2015     & 1        & 5.9      & 0        & Aprovado\\\\\n",
       "\\end{tabular}\n"
      ],
      "text/markdown": [
       "\n",
       "| <!--/--> | X | a_ID | CEP | ano_ingresso | periodo_ingresso | status | ano_disciplina | periodo_disciplina | nota | disciplina_ID | status.disciplina | \n",
       "|---|---|---|---|---|---|\n",
       "| 4 |  3       |  2       | 59072580 | 2014     | 1        | ATIVO    | 2014     | 2        | 6.1      | 0        | Aprovado | \n",
       "| 6 |  5       |  3       | 59088150 | 2014     | 1        | ATIVO    | 2014     | 2        | 7.2      | 0        | Aprovado | \n",
       "| 9 |  8       |  5       | 59112430 | 2014     | 1        | ATIVO    | 2014     | 2        | 8.9      | 0        | Aprovado | \n",
       "| 13 | 12       |  7       | 59020330 | 2014     | 1        | ATIVO    | 2014     | 2        | 5.6      | 0        | Aprovado | \n",
       "| 15 | 14       |  8       | 59151610 | 2014     | 1        | ATIVO    | 2015     | 1        | 6.9      | 0        | Aprovado | \n",
       "| 23 | 22       | 12       | 59547000 | 2014     | 1        | ATIVO    | 2015     | 1        | 5.9      | 0        | Aprovado | \n",
       "\n",
       "\n"
      ],
      "text/plain": [
       "   X  a_ID CEP      ano_ingresso periodo_ingresso status ano_disciplina\n",
       "4   3  2   59072580 2014         1                ATIVO  2014          \n",
       "6   5  3   59088150 2014         1                ATIVO  2014          \n",
       "9   8  5   59112430 2014         1                ATIVO  2014          \n",
       "13 12  7   59020330 2014         1                ATIVO  2014          \n",
       "15 14  8   59151610 2014         1                ATIVO  2015          \n",
       "23 22 12   59547000 2014         1                ATIVO  2015          \n",
       "   periodo_disciplina nota disciplina_ID status.disciplina\n",
       "4  2                  6.1  0             Aprovado         \n",
       "6  2                  7.2  0             Aprovado         \n",
       "9  2                  8.9  0             Aprovado         \n",
       "13 2                  5.6  0             Aprovado         \n",
       "15 1                  6.9  0             Aprovado         \n",
       "23 1                  5.9  0             Aprovado         "
      ]
     },
     "metadata": {},
     "output_type": "display_data"
    }
   ],
   "source": [
    "#X <- subset(dado, ano_ingresso==2014 & status==\"ATIVO\")\n",
    "#y <- subset(dado, ano_ingresso==2014 & status==\"CANCELADO\")\n",
    "nota_media <- mean(X$nota)\n",
    "nota_media\n",
    "alunos_acima_da_média <- subset(X, nota > nota_media)\n",
    "head(alunos_acima_da_média)"
   ]
  },
  {
   "cell_type": "code",
   "execution_count": 44,
   "metadata": {
    "scrolled": true
   },
   "outputs": [
    {
     "data": {
      "text/html": [
       "<dl class=dl-horizontal>\n",
       "\t<dt>0%</dt>\n",
       "\t\t<dd>4.6</dd>\n",
       "\t<dt>25%</dt>\n",
       "\t\t<dd>5.7</dd>\n",
       "\t<dt>50%</dt>\n",
       "\t\t<dd>6.6</dd>\n",
       "\t<dt>75%</dt>\n",
       "\t\t<dd>7.6</dd>\n",
       "\t<dt>100%</dt>\n",
       "\t\t<dd>10</dd>\n",
       "</dl>\n"
      ],
      "text/latex": [
       "\\begin{description*}\n",
       "\\item[0\\textbackslash{}\\%] 4.6\n",
       "\\item[25\\textbackslash{}\\%] 5.7\n",
       "\\item[50\\textbackslash{}\\%] 6.6\n",
       "\\item[75\\textbackslash{}\\%] 7.6\n",
       "\\item[100\\textbackslash{}\\%] 10\n",
       "\\end{description*}\n"
      ],
      "text/markdown": [
       "0%\n",
       ":   4.625%\n",
       ":   5.750%\n",
       ":   6.675%\n",
       ":   7.6100%\n",
       ":   10\n",
       "\n"
      ],
      "text/plain": [
       "  0%  25%  50%  75% 100% \n",
       " 4.6  5.7  6.6  7.6 10.0 "
      ]
     },
     "metadata": {},
     "output_type": "display_data"
    },
    {
     "data": {
      "text/html": [
       "<dl class=dl-horizontal>\n",
       "\t<dt>0%</dt>\n",
       "\t\t<dd>0</dd>\n",
       "\t<dt>25%</dt>\n",
       "\t\t<dd>1.7</dd>\n",
       "\t<dt>50%</dt>\n",
       "\t\t<dd>5.3</dd>\n",
       "\t<dt>75%</dt>\n",
       "\t\t<dd>7.075</dd>\n",
       "\t<dt>100%</dt>\n",
       "\t\t<dd>10</dd>\n",
       "</dl>\n"
      ],
      "text/latex": [
       "\\begin{description*}\n",
       "\\item[0\\textbackslash{}\\%] 0\n",
       "\\item[25\\textbackslash{}\\%] 1.7\n",
       "\\item[50\\textbackslash{}\\%] 5.3\n",
       "\\item[75\\textbackslash{}\\%] 7.075\n",
       "\\item[100\\textbackslash{}\\%] 10\n",
       "\\end{description*}\n"
      ],
      "text/markdown": [
       "0%\n",
       ":   025%\n",
       ":   1.750%\n",
       ":   5.375%\n",
       ":   7.075100%\n",
       ":   10\n",
       "\n"
      ],
      "text/plain": [
       "    0%    25%    50%    75%   100% \n",
       " 0.000  1.700  5.300  7.075 10.000 "
      ]
     },
     "metadata": {},
     "output_type": "display_data"
    }
   ],
   "source": [
    "quantile(alunos_acima_da_média$nota)\n",
    "quantile(alunos_IMD$nota)"
   ]
  },
  {
   "cell_type": "markdown",
   "metadata": {},
   "source": [
    "#### Exercício: - Calcule o desempenho dos alunos no seu primeiro ano de curso.\n",
    "- Obter média e desvio padrão das notas dos alunos em 2014 com ingresso em 2014.\n",
    "- Obter média e desvio padrão das notas dos alunos em 2015 com ingresso em 2015.\n",
    "- Obter média e desvio padrão das notas dos alunos em 2016 com ingresso em 2016.\n",
    "- O desempenho dos alunos calouros está melhorando ou piorando?\n",
    " "
   ]
  },
  {
   "cell_type": "code",
   "execution_count": null,
   "metadata": {
    "collapsed": true
   },
   "outputs": [],
   "source": [
    "# Resposta do Exercício\n",
    "\n"
   ]
  },
  {
   "cell_type": "markdown",
   "metadata": {},
   "source": [
    "#### Exercício: - Descubra a disciplina cujos alunos t6em menor desempenho. "
   ]
  },
  {
   "cell_type": "code",
   "execution_count": null,
   "metadata": {
    "collapsed": true
   },
   "outputs": [],
   "source": [
    "# Resposta do Exercício"
   ]
  },
  {
   "cell_type": "markdown",
   "metadata": {},
   "source": [
    "#### Exercício: -O desempenho dos alunos é melhor no primeiro ou no segundo semestre do ano? "
   ]
  },
  {
   "cell_type": "code",
   "execution_count": null,
   "metadata": {
    "collapsed": true
   },
   "outputs": [],
   "source": [
    "# Resposta do Exercício"
   ]
  },
  {
   "cell_type": "markdown",
   "metadata": {},
   "source": [
    "## 3. Gráficos estatísitcos básicos em R\n",
    "- Gráficos de linha\n",
    "- plot(vetorX), plot(vetorX, vetorY), plot(vetorY~vetorX) - Gráficos de pontos \n",
    "- hist(vetorX) - Histogramas\n",
    "- boxplot(vetorX, vetorLabels) - Gráficos de box\n",
    "- barplot(vetorX)"
   ]
  },
  {
   "cell_type": "code",
   "execution_count": 34,
   "metadata": {
    "scrolled": true
   },
   "outputs": [
    {
     "data": {
      "text/html": [
       "<ol class=list-inline>\n",
       "\t<li>2</li>\n",
       "\t<li>4.5</li>\n",
       "\t<li>6</li>\n",
       "\t<li>10</li>\n",
       "\t<li>30</li>\n",
       "\t<li>34</li>\n",
       "\t<li>50</li>\n",
       "\t<li>56</li>\n",
       "\t<li>60</li>\n",
       "\t<li>77.5</li>\n",
       "\t<li>80</li>\n",
       "\t<li>85</li>\n",
       "</ol>\n"
      ],
      "text/latex": [
       "\\begin{enumerate*}\n",
       "\\item 2\n",
       "\\item 4.5\n",
       "\\item 6\n",
       "\\item 10\n",
       "\\item 30\n",
       "\\item 34\n",
       "\\item 50\n",
       "\\item 56\n",
       "\\item 60\n",
       "\\item 77.5\n",
       "\\item 80\n",
       "\\item 85\n",
       "\\end{enumerate*}\n"
      ],
      "text/markdown": [
       "1. 2\n",
       "2. 4.5\n",
       "3. 6\n",
       "4. 10\n",
       "5. 30\n",
       "6. 34\n",
       "7. 50\n",
       "8. 56\n",
       "9. 60\n",
       "10. 77.5\n",
       "11. 80\n",
       "12. 85\n",
       "\n",
       "\n"
      ],
      "text/plain": [
       " [1]  2.0  4.5  6.0 10.0 30.0 34.0 50.0 56.0 60.0 77.5 80.0 85.0"
      ]
     },
     "metadata": {},
     "output_type": "display_data"
    },
    {
     "data": {
      "text/html": [
       "<ol class=list-inline>\n",
       "\t<li>'pequeno'</li>\n",
       "\t<li>'pequeno'</li>\n",
       "\t<li>'pequeno'</li>\n",
       "\t<li>'pequeno'</li>\n",
       "\t<li>'pequeno'</li>\n",
       "\t<li>'pequeno'</li>\n",
       "\t<li>'grande'</li>\n",
       "\t<li>'grande'</li>\n",
       "\t<li>'grande'</li>\n",
       "\t<li>'grande'</li>\n",
       "\t<li>'grande'</li>\n",
       "\t<li>'grande'</li>\n",
       "</ol>\n"
      ],
      "text/latex": [
       "\\begin{enumerate*}\n",
       "\\item 'pequeno'\n",
       "\\item 'pequeno'\n",
       "\\item 'pequeno'\n",
       "\\item 'pequeno'\n",
       "\\item 'pequeno'\n",
       "\\item 'pequeno'\n",
       "\\item 'grande'\n",
       "\\item 'grande'\n",
       "\\item 'grande'\n",
       "\\item 'grande'\n",
       "\\item 'grande'\n",
       "\\item 'grande'\n",
       "\\end{enumerate*}\n"
      ],
      "text/markdown": [
       "1. 'pequeno'\n",
       "2. 'pequeno'\n",
       "3. 'pequeno'\n",
       "4. 'pequeno'\n",
       "5. 'pequeno'\n",
       "6. 'pequeno'\n",
       "7. 'grande'\n",
       "8. 'grande'\n",
       "9. 'grande'\n",
       "10. 'grande'\n",
       "11. 'grande'\n",
       "12. 'grande'\n",
       "\n",
       "\n"
      ],
      "text/plain": [
       " [1] \"pequeno\" \"pequeno\" \"pequeno\" \"pequeno\" \"pequeno\" \"pequeno\" \"grande\" \n",
       " [8] \"grande\"  \"grande\"  \"grande\"  \"grande\"  \"grande\" "
      ]
     },
     "metadata": {},
     "output_type": "display_data"
    }
   ],
   "source": [
    "riqueza <- c(15,18,22,24,25,30,31,34,37,39,41,45)\n",
    "area <- c(2,4.5,6,10,30,34,50,56,60,77.5,80,85)\n",
    "area\n",
    "area.cate <- rep(c(\"pequeno\", \"grande\"), each=6)\n",
    "area.cate\n"
   ]
  },
  {
   "cell_type": "code",
   "execution_count": 35,
   "metadata": {
    "scrolled": false
   },
   "outputs": [
    {
     "data": {
      "image/png": "[encoded data removed]",
      "text/plain": [
       "plot without title"
      ]
     },
     "metadata": {},
     "output_type": "display_data"
    }
   ],
   "source": [
    "plot(riqueza~area)"
   ]
  },
  {
   "cell_type": "code",
   "execution_count": 36,
   "metadata": {},
   "outputs": [
    {
     "data": {
      "image/png": "[encoded data removed]",
      "text/plain": [
       "plot without title"
      ]
     },
     "metadata": {},
     "output_type": "display_data"
    }
   ],
   "source": [
    "plot(area,riqueza) # o mesmo que o anterior"
   ]
  },
  {
   "cell_type": "code",
   "execution_count": 37,
   "metadata": {},
   "outputs": [
    {
     "data": {
      "image/png": "[encoded data removed]",
      "text/plain": [
       "plot without title"
      ]
     },
     "metadata": {},
     "output_type": "display_data"
    }
   ],
   "source": [
    "boxplot(riqueza~area.cate)"
   ]
  },
  {
   "cell_type": "code",
   "execution_count": 38,
   "metadata": {},
   "outputs": [
    {
     "data": {
      "image/png": "[encoded data removed]",
      "text/plain": [
       "plot without title"
      ]
     },
     "metadata": {},
     "output_type": "display_data"
    }
   ],
   "source": [
    "barplot(riqueza)"
   ]
  },
  {
   "cell_type": "code",
   "execution_count": 40,
   "metadata": {},
   "outputs": [
    {
     "data": {
      "image/png": "[encoded data removed]",
      "text/plain": [
       "Plot with title “Histogram of riqueza”"
      ]
     },
     "metadata": {},
     "output_type": "display_data"
    }
   ],
   "source": [
    "hist(riqueza)"
   ]
  },
  {
   "cell_type": "markdown",
   "metadata": {},
   "source": [
    "#### Exemplos com os dados dos alunos do IMD"
   ]
  },
  {
   "cell_type": "code",
   "execution_count": 41,
   "metadata": {},
   "outputs": [
    {
     "data": {
      "image/png": "[encoded data removed]",
      "text/plain": [
       "Plot with title “Histogram of alunos_IMD[alunos_IMD$ano_ingresso == 2014, ]$nota”"
      ]
     },
     "metadata": {},
     "output_type": "display_data"
    }
   ],
   "source": [
    "hist(alunos_IMD[alunos_IMD$ano_ingresso == 2014,]$nota)"
   ]
  },
  {
   "cell_type": "code",
   "execution_count": 42,
   "metadata": {},
   "outputs": [
    {
     "data": {
      "image/png": "[encoded data removed]",
      "text/plain": [
       "Plot with title “Histogram of alunos_ativos$nota”"
      ]
     },
     "metadata": {},
     "output_type": "display_data"
    }
   ],
   "source": [
    "alunos_ativos <- subset(alunos_IMD, ano_ingresso==2014 & status==\"ATIVO\" & status.disciplina == \"Aprovado\")\n",
    "hist(alunos_ativos$nota)"
   ]
  },
  {
   "cell_type": "markdown",
   "metadata": {},
   "source": [
    "#### Dica: Como Salvar Gráficos em formatos importantes\n",
    "- Formatos: pdf(),png(),svg(),jpeg(),…, LaTeX\n"
   ]
  },
  {
   "cell_type": "code",
   "execution_count": null,
   "metadata": {
    "collapsed": true,
    "scrolled": true
   },
   "outputs": [],
   "source": [
    "print(\"Exemplo de como salvar um gráfico no formato .pdf\")\n",
    "n <- rnorm(1000)\n",
    "pdf(\"myplot.pdf\")\n",
    "plot(n)\n",
    "dev.off()"
   ]
  },
  {
   "cell_type": "markdown",
   "metadata": {},
   "source": [
    "#### Exercício:\n",
    "- Obtenha os boxplots dos alunos do IMD no seu primeiro ano de curso."
   ]
  },
  {
   "cell_type": "code",
   "execution_count": null,
   "metadata": {
    "collapsed": true
   },
   "outputs": [],
   "source": [
    "# Resolução do Exercício"
   ]
  },
  {
   "cell_type": "markdown",
   "metadata": {},
   "source": [
    "## 4.  Distribuições estatísticas discretas e contínuas (modelos) em R\n",
    "\n",
    "R já possui as distribuições discretas e contínuas mais importantes."
   ]
  },
  {
   "cell_type": "markdown",
   "metadata": {},
   "source": [
    "### 4.1 Distribuições Discretas Importantes\n",
    "\n",
    "R já possui as distribuições mais importantes;\n",
    "- Binomial:\n",
    "    - dbinom(x, n, p, opções)\n",
    "    - pbinom(q, n, p, opções)\n",
    "    - qbinom(prob, n, p, opções)\n",
    "    - rbinom(num_amostras, n, p)\n",
    "        - x: vetor contendo o número total de sucessos em n ensaios de Bernoulli.\n",
    "        - p: probabilidade de sucesso.\n",
    "        - q: vetor contendo os quantis em n ensaios de Bernoulli.\n",
    "        - prob: vetor contendo as probabilidades em n ensaios de Bernoulli.\n",
    "        - num_amostras: número de observações.\n",
    "        - n: número de ensaios de Bernoulli.\n",
    "- Geométrica\n",
    "    - dgeom(x, prob, opções)\n",
    "    - pgeom(q, prob, opções)\n",
    "    - qgeom(p, prob, opções)\n",
    "    - rgeom(n, prob)\n",
    "        - x: vetor contendo o número de falhas ocorridas em uma sequência de Bernoulli antes do sucesso.\n",
    "        - prob: probabilidade de sucesso em cada tentativa.\n",
    "        - q: vetor contendo os quantis\n",
    "        - p: vetor contendo as probabilidades\n",
    "        - n: número de observações.\n",
    "- Hipergeométrica\n",
    "    - dhyper(x, m, n, k, opções)\n",
    "    - phyper(q, m, n, k, opções)\n",
    "    - qhyper(p, m, n, k, opções)\n",
    "    - rhyper(nn, m, n, k)\n",
    "        - x: vetor contendo o número de elementos com a característica A extraídos sem reposição de uma urna que contém elementos com aracterísticas A e B.\n",
    "        - cm: número de elementos com a característica A.\n",
    "        - n: número de elementos com a característica B.\n",
    "        - k: número de elementos extraídos da urna.\n",
    "        - q: vetor contendo os quantis.\n",
    "        - p: vetor contendo as probabilidades.\n",
    "        - nn: número de observações.\n",
    "- Poisson\n",
    "    - dpois(x, lambda, opções)\n",
    "    - ppois(q, lambda, opções)\n",
    "    - qpois(prob, lambda, opções)\n",
    "    - rpois(obs, lambda)\n",
    "        - x: vetor contendo o número de ocorrências.\n",
    "        - lambda: número médio de eventos ocorrendo no intervalo considerado.\n",
    "        - q: vetor contendo os quantis.\n",
    "        - prob: vetor contendo as probabilidades.\n",
    "        - obs: número de observações."
   ]
  },
  {
   "cell_type": "markdown",
   "metadata": {},
   "source": [
    "### 4.2 Distribuições Contínuas Importantes\n",
    "\n",
    "- Uniforme:\n",
    "    - dunif(x, min=0, max=1, opções); fornece a probabilidade dado a quantidade/quartil\n",
    "    - punif(q, min=0, max=1, opções); fornece a densidade\n",
    "    - qunif(p, min=0, max=1, opções); fornece a distribuição\n",
    "    - runif(n, min=0, max=1); gera n amostras seguindo uma Distribuição Uniforme, com defaults mínimo igual 0 e máximo\n",
    "        - x: vetor contendo os quantis.\n",
    "        - min: limite inferior da distribuição.\n",
    "        - max: limite superior da distribuição.\n",
    "        - q: vetor contendo os quantis.\n",
    "        - p: vetor contendo as probabilidades.\n",
    "        - n: número de observações.\n",
    "- Exponencial\n",
    "    - dexp(x, rate=1, opções)\n",
    "    - pexp(q, rate=1, opções)\n",
    "    - qexp(p, rate=1, opções)\n",
    "    - rexp(n, rate = 1)\n",
    "        - x: vetor contendo os quantis.\n",
    "        - rate: parâmetro da distribuição.\n",
    "        - q: vetor contendo os quantis.\n",
    "        - p: vetor contendo as probabilidades.\n",
    "        - n: número de observações.\n",
    "            \n",
    "- Gaussiana (Normal)\n",
    "    - dnorm(x, mean=0, sd=1, opções)\n",
    "    - pnorm(q, mean=0, sd=1, opções)\n",
    "    - qnorm(p, mean=0, sd=1, opções)\n",
    "    - rnorm(n, mean=0, sd=1)\n",
    "        - x: vetor contendo os quantis.\n",
    "        - mean: média da distribuição.\n",
    "        - sd: desvio padrão da distribuição.\n",
    "        - q: vetor contendo os quantis.\n",
    "        - p: vetor contendo as probabilidades.\n",
    "        - n: número de observações.    \n",
    "- Gama:\n",
    "    - dgamma(x, shape, rate = 1, opções)\n",
    "    - pgamma(q, shape, rate = 1, opções)\n",
    "    - qgamma(p, shape, rate = 1, opções)\n",
    "    - rgamma(n, shape, rate = 1)\n",
    "        - x: vetor contendo os quantis.\n",
    "        - shape: parâmetro da distribuição.\n",
    "        - rate: parâmetro da distribuição.\n",
    "        - q: vetor contendo os quantis.\n",
    "        - p: vetor contendo as probabilidades.\n",
    "        - n: número de observações.\n",
    "        \n",
    "- Qui-quadrado\n",
    "    - dchisq(x, df, ncp=0, opções)\n",
    "    - pchisq(q, df, ncp=0, opções)\n",
    "    - qchisq(p, df, ncp=0, opções)\n",
    "    - rchisq(n, df, ncp=0)\n",
    "        - x: vetor contendo os quantis.\n",
    "        - df: graus de liberdade.\n",
    "        - ncp: parâmetro de não centralidade.\n",
    "        - q: vetor contendo os quantis.\n",
    "        - p: vetor contendo as probabilidades.\n",
    "        - n: número de observações.\n",
    "- Student\n",
    "    - dt(x, df, ncp=0, opções)\n",
    "    - pt(q, df, ncp=0, opções)\n",
    "    - qt(p, df, opções)\n",
    "    - rt(n, df)\n",
    "        - x: vetor contendo os quantis.\n",
    "        - df: graus de liberdade.\n",
    "        - ncp: parâmetro de não centralidade.\n",
    "        - q: vetor contendo os quantis.\n",
    "        - p: vetor contendo as probabilidades.\n",
    "        - n: número de observações.\n",
    "        \n",
    "- F-Snedecor\n",
    "    - df(x, df1, df2, opções)\n",
    "    - pf(q, df1, df2, ncp=0, opções)\n",
    "    - qf(p, df1, df2, opções)\n",
    "    - rf(n, df1, df2)\n",
    "        - x: vetor contendo os quantis.\n",
    "        - df1: graus de liberdade do numerador.\n",
    "        - df2: graus de liberdade do denominador.\n",
    "        - q: vetor contendo os quantis.\n",
    "        - ncp: parâmetro de não centralidade.\n",
    "        - p: vetor contendo as probabilidades.\n",
    "        - n: número de observações.\n",
    "\n"
   ]
  },
  {
   "cell_type": "markdown",
   "metadata": {},
   "source": [
    "### 4.3 Exercícios com Distribuição Exponencial"
   ]
  },
  {
   "cell_type": "markdown",
   "metadata": {},
   "source": [
    "Exponencial\n",
    "\n",
    "    dexp(x, rate=1, opções)\n",
    "    pexp(q, rate=1, opções)\n",
    "    qexp(p, rate=1, opções)\n",
    "    rexp(n, rate = 1)\n",
    "        x: vetor contendo os quantis.\n",
    "        rate: parâmetro da distribuição.\n",
    "        q: vetor contendo os quantis.\n",
    "        p: vetor contendo as probabilidades.\n",
    "        n: número de observações.\n",
    "\n"
   ]
  },
  {
   "cell_type": "code",
   "execution_count": 46,
   "metadata": {
    "scrolled": false
   },
   "outputs": [
    {
     "data": {
      "text/html": [
       "1.98897722002506"
      ],
      "text/latex": [
       "1.98897722002506"
      ],
      "text/markdown": [
       "1.98897722002506"
      ],
      "text/plain": [
       "[1] 1.988977"
      ]
     },
     "metadata": {},
     "output_type": "display_data"
    },
    {
     "data": {
      "text/html": [
       "3.99900826770136"
      ],
      "text/latex": [
       "3.99900826770136"
      ],
      "text/markdown": [
       "3.99900826770136"
      ],
      "text/plain": [
       "[1] 3.999008"
      ]
     },
     "metadata": {},
     "output_type": "display_data"
    },
    {
     "data": {
      "text/html": [
       "1.99975205155573"
      ],
      "text/latex": [
       "1.99975205155573"
      ],
      "text/markdown": [
       "1.99975205155573"
      ],
      "text/plain": [
       "[1] 1.999752"
      ]
     },
     "metadata": {},
     "output_type": "display_data"
    },
    {
     "data": {
      "image/png": "[encoded data removed]",
      "text/plain": [
       "Plot with title “Histogram of a1”"
      ]
     },
     "metadata": {},
     "output_type": "display_data"
    }
   ],
   "source": [
    "a1 <- rexp(10000,rate=.5)\n",
    "mean(a1)\n",
    "var(a1)\n",
    "sd(a1)\n",
    "hist(a1)\n"
   ]
  },
  {
   "cell_type": "code",
   "execution_count": 47,
   "metadata": {},
   "outputs": [
    {
     "data": {
      "text/html": [
       "1.12405557192662"
      ],
      "text/latex": [
       "1.12405557192662"
      ],
      "text/markdown": [
       "1.12405557192662"
      ],
      "text/plain": [
       "[1] 1.124056"
      ]
     },
     "metadata": {},
     "output_type": "display_data"
    },
    {
     "data": {
      "text/html": [
       "1.24129349326276"
      ],
      "text/latex": [
       "1.24129349326276"
      ],
      "text/markdown": [
       "1.24129349326276"
      ],
      "text/plain": [
       "[1] 1.241293"
      ]
     },
     "metadata": {},
     "output_type": "display_data"
    },
    {
     "data": {
      "text/html": [
       "1.11413351680252"
      ],
      "text/latex": [
       "1.11413351680252"
      ],
      "text/markdown": [
       "1.11413351680252"
      ],
      "text/plain": [
       "[1] 1.114134"
      ]
     },
     "metadata": {},
     "output_type": "display_data"
    },
    {
     "data": {
      "image/png": "[encoded data removed]",
      "text/plain": [
       "Plot with title “Histogram of a2”"
      ]
     },
     "metadata": {},
     "output_type": "display_data"
    }
   ],
   "source": [
    "a2 <- rexp(10000,rate=.9)\n",
    "mean(a2)\n",
    "var(a2)\n",
    "sd(a2)\n",
    "hist(a2)"
   ]
  },
  {
   "cell_type": "markdown",
   "metadata": {},
   "source": [
    "### 4.4 Exercícios com Distribuição Gaussiana - Normal"
   ]
  },
  {
   "cell_type": "markdown",
   "metadata": {},
   "source": [
    "#### Exercício: Soma de distribuições uniformes\n",
    "- Seja a V.A. Y, dada por Y = X1, X2, ..., Xn. Onde Xi é uma variável aleatória uniforme entre 0 e 1.\n",
    "- Gere 10.000 amostras de Y; calcule E[Y], Var[Y] e mediana e apresente seu histograma, para:\n",
    "    - n=1; n=2, n=3, n=4, ..., n = 12.\n",
    "- O que ocorre com f(Y) a madida que n aumenta?\n",
    "- Como se pode gerar uma V.A. Z~N(0,1)?"
   ]
  },
  {
   "cell_type": "code",
   "execution_count": 45,
   "metadata": {},
   "outputs": [
    {
     "name": "stdout",
     "output_type": "stream",
     "text": [
      "[1] \"Escreva o programa aqui\"\n",
      "[1] \"Valores de Y\"\n"
     ]
    },
    {
     "data": {
      "text/html": [
       "5.99999375881763"
      ],
      "text/latex": [
       "5.99999375881763"
      ],
      "text/markdown": [
       "5.99999375881763"
      ],
      "text/plain": [
       "[1] 5.999994"
      ]
     },
     "metadata": {},
     "output_type": "display_data"
    },
    {
     "data": {
      "text/html": [
       "0.999637618886334"
      ],
      "text/latex": [
       "0.999637618886334"
      ],
      "text/markdown": [
       "0.999637618886334"
      ],
      "text/plain": [
       "[1] 0.9996376"
      ]
     },
     "metadata": {},
     "output_type": "display_data"
    },
    {
     "data": {
      "text/plain": [
       "   Min. 1st Qu.  Median    Mean 3rd Qu.    Max. \n",
       "  1.733   5.316   5.999   6.000   6.682  10.290 "
      ]
     },
     "metadata": {},
     "output_type": "display_data"
    },
    {
     "data": {
      "image/png": "[encoded data removed]",
      "text/plain": [
       "Plot with title “Histogram of Y”"
      ]
     },
     "metadata": {},
     "output_type": "display_data"
    }
   ],
   "source": [
    "print(\"Escreva o programa aqui\")\n",
    "\n",
    "Y <- numeric(1000000)\n",
    "\n",
    "for(i in 1:12)\n",
    "{\n",
    " Y <- Y + runif(1000000)    \n",
    "}\n",
    "print(\"Valores de Y\")\n",
    "mean(Y)\n",
    "var(Y)\n",
    "summary(Y)\n",
    "hist(Y)"
   ]
  },
  {
   "cell_type": "markdown",
   "metadata": {},
   "source": [
    "#### Exercício: Distribuição de Gaussiana\n",
    "- Plot o gráfico de f(x), para X~N(0,1)"
   ]
  },
  {
   "cell_type": "code",
   "execution_count": 48,
   "metadata": {},
   "outputs": [
    {
     "name": "stdout",
     "output_type": "stream",
     "text": [
      "[1] \"Programa que plota uma função densidade de probabilidade gaussiana, com média 0 e variância 1\"\n"
     ]
    },
    {
     "data": {
      "image/png": "[encoded data removed]",
      "text/plain": [
       "plot without title"
      ]
     },
     "metadata": {},
     "output_type": "display_data"
    }
   ],
   "source": [
    "print(\"Programa que plota uma função densidade de probabilidade gaussiana, com média 0 e variância 1\")\n",
    "x <- seq(-6, 6, by=0.1)\n",
    "y <- dnorm(x)\n",
    "plot(x, y, type=\"l\")"
   ]
  },
  {
   "cell_type": "markdown",
   "metadata": {},
   "source": [
    "#### Exercício: Distribuição de Gaussiana\n",
    "- Generalize o programa anterior para X~N(mi,sigma)\n",
    "    - teste com vários valores de mi e sigma. Sendo sigma > 0."
   ]
  },
  {
   "cell_type": "code",
   "execution_count": null,
   "metadata": {
    "collapsed": true
   },
   "outputs": [],
   "source": [
    "print(\"Programa que plota uma função densidade de probabilidade gaussiana, com média mi e variância sigma\")\n"
   ]
  },
  {
   "cell_type": "code",
   "execution_count": 55,
   "metadata": {},
   "outputs": [
    {
     "name": "stdout",
     "output_type": "stream",
     "text": [
      "[1] \"Programa que plota o histograma e a curva da função densidade gaussiana\"\n"
     ]
    },
    {
     "data": {
      "image/png": "[encoded data removed]",
      "text/plain": [
       "Plot with title “Normal(0,1)”"
      ]
     },
     "metadata": {},
     "output_type": "display_data"
    }
   ],
   "source": [
    "## Plotando Histograma e plot-line\n",
    "\n",
    "print(\"Programa que plota o histograma e a curva da função densidade gaussiana\") \n",
    "x=rnorm(100)\n",
    "hist(x,probability=TRUE,col=\"lightblue\",main=\"Normal(0,1)\",ylab=\"Densidade\", ylim=c(0,0.5),xlim=c(-3,3))\n",
    "curve(dnorm(x),add=T)"
   ]
  },
  {
   "cell_type": "markdown",
   "metadata": {},
   "source": [
    "#### Exercício: Plotando dois histogramas numa mesma figura"
   ]
  },
  {
   "cell_type": "code",
   "execution_count": 67,
   "metadata": {},
   "outputs": [
    {
     "name": "stdout",
     "output_type": "stream",
     "text": [
      "[1] \"Generalize o programa para soma de n VA, com médias e variâncias genéricas\"\n"
     ]
    },
    {
     "data": {
      "image/png": "[encoded data removed]",
      "text/plain": [
       "Plot with title “Normal(0,1)”"
      ]
     },
     "metadata": {},
     "output_type": "display_data"
    }
   ],
   "source": [
    "print(\"Geração de dois vetores com valores seguindo distribuições normais\")\n",
    "n = 50000\n",
    "X1 = rnorm(n,4,1)\n",
    "X2 = rnorm(n,0,4)\n",
    "\n",
    "hist(X1,probability=TRUE,col=\"lightblue\",main=\"Normal(0,1)\",ylab=\"Densidade\", ylim=c(0,0.5),xlim=c(-10,10))\n",
    "hist(X2,probability=TRUE,col = \"wheat\", label = F, add=T,main=\"Normal(0,1)\",ylab=\"Densidade\", ylim=c(0,0.5),xlim=c(-10,10))\n"
   ]
  },
  {
   "cell_type": "markdown",
   "metadata": {
    "collapsed": true
   },
   "source": [
    "#### Exercício: Distribuição de Gaussiana\n",
    "- Função distribuição gaussiana F(x).\n",
    "- Utilizar pnorm(vetorX) ou pnorm(valorX)\n"
   ]
  },
  {
   "cell_type": "code",
   "execution_count": 52,
   "metadata": {},
   "outputs": [
    {
     "name": "stdout",
     "output_type": "stream",
     "text": [
      "[1] \"programa que plota uma distribuição gaussiana - Fx - Curva S\"\n"
     ]
    },
    {
     "data": {
      "text/html": [
       "0.5"
      ],
      "text/latex": [
       "0.5"
      ],
      "text/markdown": [
       "0.5"
      ],
      "text/plain": [
       "[1] 0.5"
      ]
     },
     "metadata": {},
     "output_type": "display_data"
    },
    {
     "data": {
      "text/html": [
       "0.158655253931457"
      ],
      "text/latex": [
       "0.158655253931457"
      ],
      "text/markdown": [
       "0.158655253931457"
      ],
      "text/plain": [
       "[1] 0.1586553"
      ]
     },
     "metadata": {},
     "output_type": "display_data"
    },
    {
     "name": "stdout",
     "output_type": "stream",
     "text": [
      "[1] \"Corresponde à área entre +- 2*sigma\"\n"
     ]
    },
    {
     "data": {
      "text/html": [
       "0.954499736103642"
      ],
      "text/latex": [
       "0.954499736103642"
      ],
      "text/markdown": [
       "0.954499736103642"
      ],
      "text/plain": [
       "[1] 0.9544997"
      ]
     },
     "metadata": {},
     "output_type": "display_data"
    },
    {
     "data": {
      "image/png": "[encoded data removed]",
      "text/plain": [
       "plot without title"
      ]
     },
     "metadata": {},
     "output_type": "display_data"
    }
   ],
   "source": [
    "print(\"programa que plota uma distribuição gaussiana - Fx - Curva S\")\n",
    "x <- seq(-6, 6, by=0.1)\n",
    "y <- pnorm(x) # média 0 e variância 1\n",
    "F0 = pnorm(0)  # F(0)\n",
    "F1n = pnorm(-1) # F(-1)\n",
    "F2n = pnorm(-2) # F(-2)\n",
    "F2 = pnorm(2) # F(2)\n",
    "F0\n",
    "F1n\n",
    "print(\"Corresponde à área entre +- 2*sigma\")\n",
    "F2-F2n \n",
    "\n",
    "plot(x, y, type=\"l\")"
   ]
  },
  {
   "cell_type": "markdown",
   "metadata": {},
   "source": [
    "#### Exercício: Distribuição de Gaussiana\n",
    "- qnorm(.) é a inversa de pnorm(.).\n",
    "    - q vem de quartil; para gerar o 1o quartil de uma normal de média 5 e desvio-padrão 3, basta fazer qnorm(0.25, mean = 5, sd = 3) (o valor é 2.976531). \n",
    "    - quando não se define os outros 2 e 3, assume-se média 0 e variância 1.\n",
    "    - Analogamente, qnorm() também pode receber um vetor de probabilidades, assim, a sequência abaixo é a inversa da curva-S:"
   ]
  },
  {
   "cell_type": "code",
   "execution_count": 53,
   "metadata": {},
   "outputs": [
    {
     "name": "stdout",
     "output_type": "stream",
     "text": [
      "[1] \"Programa exemplificando o uso da função qnorm(.) \"\n",
      " num [1:5] -Inf -0.674 0 0.674 Inf\n"
     ]
    },
    {
     "data": {
      "image/png": "[encoded data removed]",
      "text/plain": [
       "plot without title"
      ]
     },
     "metadata": {},
     "output_type": "display_data"
    }
   ],
   "source": [
    "print(\"Programa exemplificando o uso da função qnorm(.) \")  \n",
    "x <- seq(0.001, 0.999, length=1000)\n",
    "y <- qnorm(x)\n",
    "quartis = qnorm(c(0,0.25,0.5, 0.75, 1.0))\n",
    "str(quartis)\n",
    "plot(x, y, type=\"l\")"
   ]
  },
  {
   "cell_type": "markdown",
   "metadata": {},
   "source": [
    "## 5. Testes Estatísitcos\n",
    "R já possui um método que calcula os índices dos testes estatísitcos:\n",
    "- t.test(vetor)   # corresponde ao teste de Student.\n",
    "\n",
    "- Intervalo de Confiança\n",
    "- Teste de hipótese\n",
    "- P-Valor"
   ]
  },
  {
   "cell_type": "code",
   "execution_count": 96,
   "metadata": {},
   "outputs": [
    {
     "data": {
      "text/html": [
       "<ol class=list-inline>\n",
       "\t<li>2.9</li>\n",
       "\t<li>3.4</li>\n",
       "\t<li>3.5</li>\n",
       "\t<li>4.1</li>\n",
       "\t<li>4.6</li>\n",
       "\t<li>4.7</li>\n",
       "\t<li>4.5</li>\n",
       "\t<li>3.8</li>\n",
       "\t<li>5.3</li>\n",
       "\t<li>4.9</li>\n",
       "\t<li>4.8</li>\n",
       "\t<li>5.7</li>\n",
       "\t<li>5.8</li>\n",
       "\t<li>5</li>\n",
       "\t<li>3.4</li>\n",
       "\t<li>5.9</li>\n",
       "\t<li>6.3</li>\n",
       "\t<li>4.6</li>\n",
       "\t<li>5.5</li>\n",
       "\t<li>6.2</li>\n",
       "</ol>\n"
      ],
      "text/latex": [
       "\\begin{enumerate*}\n",
       "\\item 2.9\n",
       "\\item 3.4\n",
       "\\item 3.5\n",
       "\\item 4.1\n",
       "\\item 4.6\n",
       "\\item 4.7\n",
       "\\item 4.5\n",
       "\\item 3.8\n",
       "\\item 5.3\n",
       "\\item 4.9\n",
       "\\item 4.8\n",
       "\\item 5.7\n",
       "\\item 5.8\n",
       "\\item 5\n",
       "\\item 3.4\n",
       "\\item 5.9\n",
       "\\item 6.3\n",
       "\\item 4.6\n",
       "\\item 5.5\n",
       "\\item 6.2\n",
       "\\end{enumerate*}\n"
      ],
      "text/markdown": [
       "1. 2.9\n",
       "2. 3.4\n",
       "3. 3.5\n",
       "4. 4.1\n",
       "5. 4.6\n",
       "6. 4.7\n",
       "7. 4.5\n",
       "8. 3.8\n",
       "9. 5.3\n",
       "10. 4.9\n",
       "11. 4.8\n",
       "12. 5.7\n",
       "13. 5.8\n",
       "14. 5\n",
       "15. 3.4\n",
       "16. 5.9\n",
       "17. 6.3\n",
       "18. 4.6\n",
       "19. 5.5\n",
       "20. 6.2\n",
       "\n",
       "\n"
      ],
      "text/plain": [
       " [1] 2.9 3.4 3.5 4.1 4.6 4.7 4.5 3.8 5.3 4.9 4.8 5.7 5.8 5.0 3.4 5.9 6.3 4.6 5.5\n",
       "[20] 6.2"
      ]
     },
     "metadata": {},
     "output_type": "display_data"
    }
   ],
   "source": [
    "tempo <- c(2.9, 3.4, 3.5, 4.1, 4.6, 4.7, 4.5, 3.8, 5.3, 4.9,4.8, 5.7, 5.8, 5.0, 3.4, 5.9, 6.3, 4.6, 5.5, 6.2)\n",
    "tempo"
   ]
  },
  {
   "cell_type": "code",
   "execution_count": 98,
   "metadata": {},
   "outputs": [
    {
     "data": {
      "text/plain": [
       "\n",
       "\tOne Sample t-test\n",
       "\n",
       "data:  tempo\n",
       "t = 21.305, df = 19, p-value = 1.006e-14\n",
       "alternative hypothesis: true mean is not equal to 0\n",
       "95 percent confidence interval:\n",
       " 4.278843 5.211157\n",
       "sample estimates:\n",
       "mean of x \n",
       "    4.745 \n"
      ]
     },
     "metadata": {},
     "output_type": "display_data"
    }
   ],
   "source": [
    "t.test(tempo)"
   ]
  },
  {
   "cell_type": "code",
   "execution_count": 101,
   "metadata": {},
   "outputs": [
    {
     "data": {
      "text/plain": [
       "\n",
       "\tOne Sample t-test\n",
       "\n",
       "data:  tempo\n",
       "t = 21.305, df = 19, p-value = 1.006e-14\n",
       "alternative hypothesis: true mean is not equal to 0\n",
       "99 percent confidence interval:\n",
       " 4.107814 5.382186\n",
       "sample estimates:\n",
       "mean of x \n",
       "    4.745 \n"
      ]
     },
     "metadata": {},
     "output_type": "display_data"
    }
   ],
   "source": [
    "t.test(tempo, conf.level = 0.99)"
   ]
  }
 ],
 "metadata": {
  "kernelspec": {
   "display_name": "R",
   "language": "R",
   "name": "ir"
  },
  "language_info": {
   "codemirror_mode": "r",
   "file_extension": ".r",
   "mimetype": "text/x-r-source",
   "name": "R",
   "pygments_lexer": "r",
   "version": "3.4.2"
  }
 },
 "nbformat": 4,
 "nbformat_minor": 2
}
